{
  "cells": [
    {
      "cell_type": "markdown",
      "id": "9d3c07ee-c3bf-4530-812a-36405502b38d",
      "metadata": {
        "id": "9d3c07ee-c3bf-4530-812a-36405502b38d"
      },
      "source": [
        "# Anyone AI - Project III\n",
        "\n",
        "# Home Credit Default Risk\n"
      ]
    },
    {
      "cell_type": "markdown",
      "id": "b5a8ce13-f23a-41bf-a8c7-d432ebcbe0c1",
      "metadata": {
        "id": "b5a8ce13-f23a-41bf-a8c7-d432ebcbe0c1"
      },
      "source": [
        "You've been learning a lot about Machine Learning Algorithms, now we you're gonna be asked to put it all togheter."
      ]
    },
    {
      "cell_type": "markdown",
      "id": "58ca3658-e8a1-41ba-a823-1a88ca9ef34b",
      "metadata": {
        "id": "58ca3658-e8a1-41ba-a823-1a88ca9ef34b"
      },
      "source": [
        "You will create a complete pipeline to preprocess the data, train your model and then predict values for the [Home Credit Default Risk](https://www.kaggle.com/competitions/home-credit-default-risk/) Kaggle competition."
      ]
    },
    {
      "cell_type": "markdown",
      "id": "e396c950-04b0-453e-b930-a22a96cee2d1",
      "metadata": {
        "id": "e396c950-04b0-453e-b930-a22a96cee2d1"
      },
      "source": [
        "## 1. Introduction"
      ]
    },
    {
      "cell_type": "markdown",
      "id": "6a305c07-e042-4c59-8aea-03475afc09dd",
      "metadata": {
        "id": "6a305c07-e042-4c59-8aea-03475afc09dd"
      },
      "source": [
        "This is a binary Classification task: we want to predict whether the person applying for a home credit will be able to repay its debt or not.\n",
        "\n",
        "The dataset is composed of multiple files with different information about loands taken. In this project we're going to exclusively work with the main files: application_train.csv and application_test.csv.\n",
        "\n",
        "We will use [Area Under the ROC Curve](https://developers.google.com/machine-learning/crash-course/classification/roc-and-auc?hl=es_419) as the evaluation metric, so our models will have to return the probabilities that a loan is not paid for each row."
      ]
    },
    {
      "cell_type": "markdown",
      "id": "3ab085b5-379c-4e02-9f96-08edf5dbf887",
      "metadata": {
        "id": "3ab085b5-379c-4e02-9f96-08edf5dbf887"
      },
      "source": [
        "### Getting the data\n",
        "\n",
        "To access the data for this project, you only need to execute the code below. This will download three files:\n",
        "\n",
        "- `application_train.csv`: Training dataset you must use to train and find the best hyperparameters on your model.\n",
        "- `application_test.csv`: Test dataset, use it only when you are done choosing the model and the parameters.\n",
        "- `HomeCredit_columns_description.csv`: This file contains descriptions for the columns in train and test datasets.\n"
      ]
    },
    {
      "cell_type": "markdown",
      "source": [
        "**Don't change anything in this cell, just make it run correctly**"
      ],
      "metadata": {
        "id": "hLbJP4buUstA"
      },
      "id": "hLbJP4buUstA"
    },
    {
      "cell_type": "code",
      "source": [
        "!gdown 1NXzAquurYrTSxMv6sEsWyDdty5teVg0r\n",
        "!gdown 1k0rH0x2rAhHki9urSjVNS8xLwt3P-KPp\n",
        "!gdown 136vZHxiyLKsyLl2iAJoSNZQQW9mZ__1J"
      ],
      "metadata": {
        "id": "D5cV-ffCwaWP",
        "outputId": "3f9059f8-3d09-48b9-b0d3-5606c65d0cf2",
        "colab": {
          "base_uri": "https://localhost:8080/"
        }
      },
      "id": "D5cV-ffCwaWP",
      "execution_count": null,
      "outputs": [
        {
          "output_type": "stream",
          "name": "stdout",
          "text": [
            "Downloading...\n",
            "From: https://drive.google.com/uc?id=1NXzAquurYrTSxMv6sEsWyDdty5teVg0r\n",
            "To: /content/application_test.csv\n",
            "100% 50.2M/50.2M [00:00<00:00, 146MB/s]\n",
            "Downloading...\n",
            "From: https://drive.google.com/uc?id=1k0rH0x2rAhHki9urSjVNS8xLwt3P-KPp\n",
            "To: /content/application_train.csv\n",
            "100% 117M/117M [00:00<00:00, 124MB/s]\n",
            "Downloading...\n",
            "From: https://drive.google.com/uc?id=136vZHxiyLKsyLl2iAJoSNZQQW9mZ__1J\n",
            "To: /content/HomeCredit_columns_description.csv\n",
            "100% 24.6k/24.6k [00:00<00:00, 50.1MB/s]\n"
          ]
        }
      ]
    },
    {
      "cell_type": "code",
      "source": [
        "import pandas as pd\n",
        "import numpy as np\n",
        "import matplotlib.pyplot as plt\n",
        "import seaborn as sns\n",
        "import time\n",
        "from sklearn.linear_model import LogisticRegression"
      ],
      "metadata": {
        "id": "jMnbfkQm5nPV"
      },
      "id": "jMnbfkQm5nPV",
      "execution_count": null,
      "outputs": []
    },
    {
      "cell_type": "markdown",
      "id": "25a0a724-ceb1-40cb-b123-b8c907a9c06f",
      "metadata": {
        "id": "25a0a724-ceb1-40cb-b123-b8c907a9c06f"
      },
      "source": [
        "1.1. Load the training and test datasets using pandas `read_csv()` function. Assign them to `app_train` and `app_test` variables respectively."
      ]
    },
    {
      "cell_type": "code",
      "execution_count": null,
      "id": "1d62ba4d-a3f6-443b-8c3e-65582a85d8a6",
      "metadata": {
        "id": "1d62ba4d-a3f6-443b-8c3e-65582a85d8a6"
      },
      "outputs": [],
      "source": [
        "### Complete in this cell: Loading the dataset\n",
        "\n",
        "# Loads application_train.csv\n",
        "app_train = pd.read_csv('/content/application_train.csv')\n",
        "\n",
        "# Loads application_test.csv\n",
        "app_test = pd.read_csv('/content/application_test.csv')"
      ]
    },
    {
      "cell_type": "markdown",
      "source": [
        "**Don't change anything in this cell, just make it run correctly**"
      ],
      "metadata": {
        "id": "MnA4l8-rWraC"
      },
      "id": "MnA4l8-rWraC"
    },
    {
      "cell_type": "code",
      "source": [
        "if app_train.shape == (215257, 123):\n",
        "  print('Success: app_train shape is correct!')\n",
        "else:\n",
        "  raise ValueError('Train dataset shape is incorrect, please review your code')\n",
        "\n",
        "if isinstance(app_train, pd.DataFrame):\n",
        "  print('Success: app_train type is correct!')\n",
        "else:\n",
        "  raise ValueError('Train dataset type is incorrect, please review your code')\n",
        "\n",
        "if app_test.shape == (92254, 123):\n",
        "  print('Success: app_test shape is correct!')\n",
        "else:\n",
        "  raise ValueError('Test dataset shape is incorrect, please review your code')\n",
        "\n",
        "if isinstance(app_test, pd.DataFrame):\n",
        "  print('Success: app_test type is correct!')\n",
        "else:\n",
        "  raise ValueError('Test dataset type is incorrect, please review your code')"
      ],
      "metadata": {
        "id": "jrkLdOJnWoSS",
        "colab": {
          "base_uri": "https://localhost:8080/"
        },
        "outputId": "3cfe9b29-ee69-423a-de51-2d7fbdaa5430"
      },
      "id": "jrkLdOJnWoSS",
      "execution_count": null,
      "outputs": [
        {
          "output_type": "stream",
          "name": "stdout",
          "text": [
            "Success: app_train shape is correct!\n",
            "Success: app_train type is correct!\n",
            "Success: app_test shape is correct!\n",
            "Success: app_test type is correct!\n"
          ]
        }
      ]
    },
    {
      "cell_type": "markdown",
      "id": "7c10a608-5c38-44f4-8158-18225619e7ae",
      "metadata": {
        "tags": [],
        "id": "7c10a608-5c38-44f4-8158-18225619e7ae"
      },
      "source": [
        "### Exploratory Data Analysis"
      ]
    },
    {
      "cell_type": "markdown",
      "id": "6bc490ab-a7b3-4590-a93c-70df44787682",
      "metadata": {
        "id": "6bc490ab-a7b3-4590-a93c-70df44787682"
      },
      "source": [
        "A lot of the analysis of the data can be found on public available Kaggle kernels or blog posts, but you need to make sure you understand the datasets properties before starting working on it, so we'll do exploratory data analysis for the main files"
      ]
    },
    {
      "cell_type": "markdown",
      "id": "2ea774d3-e12c-4c2b-846d-8c5c03e70928",
      "metadata": {
        "id": "2ea774d3-e12c-4c2b-846d-8c5c03e70928"
      },
      "source": [
        "**Dataset Basics**"
      ]
    },
    {
      "cell_type": "markdown",
      "id": "9f0b4817-5768-49d2-b5f2-907827541f16",
      "metadata": {
        "id": "9f0b4817-5768-49d2-b5f2-907827541f16"
      },
      "source": [
        "1.2. Print how many samples do we have in our train and test datasets."
      ]
    },
    {
      "cell_type": "code",
      "source": [
        "# Prints the number of samples based on column Unnamed\n",
        "print(f\"Number of samples in train dataset: {len(pd.unique(app_train['Unnamed: 0']))}\")\n",
        "print(f\"Number of samples in test dataset: {len(pd.unique(app_test['Unnamed: 0']))}\")"
      ],
      "metadata": {
        "colab": {
          "base_uri": "https://localhost:8080/"
        },
        "id": "iFOcpVOrIfDo",
        "outputId": "4d100500-2075-4309-e16b-915bc79d48f1"
      },
      "id": "iFOcpVOrIfDo",
      "execution_count": null,
      "outputs": [
        {
          "output_type": "stream",
          "name": "stdout",
          "text": [
            "Number of samples in train dataset: 215257\n",
            "Number of samples in test dataset: 92254\n"
          ]
        }
      ]
    },
    {
      "cell_type": "code",
      "source": [
        "# Prints the number of samples based on the sample's ID\n",
        "print(f\"Number of samples in train dataset: {len(pd.unique(app_train['SK_ID_CURR']))}\")\n",
        "print(f\"Number of samples in test dataset: {len(pd.unique(app_test['SK_ID_CURR']))}\")"
      ],
      "metadata": {
        "colab": {
          "base_uri": "https://localhost:8080/"
        },
        "id": "POepgvm7Zitm",
        "outputId": "eb222233-53ec-410e-fb27-0c44150c3b68"
      },
      "id": "POepgvm7Zitm",
      "execution_count": null,
      "outputs": [
        {
          "output_type": "stream",
          "name": "stdout",
          "text": [
            "Number of samples in train dataset: 215257\n",
            "Number of samples in test dataset: 92254\n"
          ]
        }
      ]
    },
    {
      "cell_type": "markdown",
      "id": "74e7a95b-8288-4ead-8c1e-f2cf68167d8e",
      "metadata": {
        "id": "74e7a95b-8288-4ead-8c1e-f2cf68167d8e"
      },
      "source": [
        "1.3. List all columns in the train dataset."
      ]
    },
    {
      "cell_type": "code",
      "execution_count": null,
      "id": "d7af2f2e-93db-41e6-bb26-df1ad0be7786",
      "metadata": {
        "id": "d7af2f2e-93db-41e6-bb26-df1ad0be7786",
        "colab": {
          "base_uri": "https://localhost:8080/"
        },
        "outputId": "abc17bdd-3cda-49b1-bba6-0be7f2705f41"
      },
      "outputs": [
        {
          "output_type": "stream",
          "name": "stdout",
          "text": [
            "['Unnamed: 0', 'SK_ID_CURR', 'TARGET', 'NAME_CONTRACT_TYPE', 'CODE_GENDER', 'FLAG_OWN_CAR', 'FLAG_OWN_REALTY', 'CNT_CHILDREN', 'AMT_INCOME_TOTAL', 'AMT_CREDIT', 'AMT_ANNUITY', 'AMT_GOODS_PRICE', 'NAME_TYPE_SUITE', 'NAME_INCOME_TYPE', 'NAME_EDUCATION_TYPE', 'NAME_FAMILY_STATUS', 'NAME_HOUSING_TYPE', 'REGION_POPULATION_RELATIVE', 'DAYS_BIRTH', 'DAYS_EMPLOYED', 'DAYS_REGISTRATION', 'DAYS_ID_PUBLISH', 'OWN_CAR_AGE', 'FLAG_MOBIL', 'FLAG_EMP_PHONE', 'FLAG_WORK_PHONE', 'FLAG_CONT_MOBILE', 'FLAG_PHONE', 'FLAG_EMAIL', 'OCCUPATION_TYPE', 'CNT_FAM_MEMBERS', 'REGION_RATING_CLIENT', 'REGION_RATING_CLIENT_W_CITY', 'WEEKDAY_APPR_PROCESS_START', 'HOUR_APPR_PROCESS_START', 'REG_REGION_NOT_LIVE_REGION', 'REG_REGION_NOT_WORK_REGION', 'LIVE_REGION_NOT_WORK_REGION', 'REG_CITY_NOT_LIVE_CITY', 'REG_CITY_NOT_WORK_CITY', 'LIVE_CITY_NOT_WORK_CITY', 'ORGANIZATION_TYPE', 'EXT_SOURCE_1', 'EXT_SOURCE_2', 'EXT_SOURCE_3', 'APARTMENTS_AVG', 'BASEMENTAREA_AVG', 'YEARS_BEGINEXPLUATATION_AVG', 'YEARS_BUILD_AVG', 'COMMONAREA_AVG', 'ELEVATORS_AVG', 'ENTRANCES_AVG', 'FLOORSMAX_AVG', 'FLOORSMIN_AVG', 'LANDAREA_AVG', 'LIVINGAPARTMENTS_AVG', 'LIVINGAREA_AVG', 'NONLIVINGAPARTMENTS_AVG', 'NONLIVINGAREA_AVG', 'APARTMENTS_MODE', 'BASEMENTAREA_MODE', 'YEARS_BEGINEXPLUATATION_MODE', 'YEARS_BUILD_MODE', 'COMMONAREA_MODE', 'ELEVATORS_MODE', 'ENTRANCES_MODE', 'FLOORSMAX_MODE', 'FLOORSMIN_MODE', 'LANDAREA_MODE', 'LIVINGAPARTMENTS_MODE', 'LIVINGAREA_MODE', 'NONLIVINGAPARTMENTS_MODE', 'NONLIVINGAREA_MODE', 'APARTMENTS_MEDI', 'BASEMENTAREA_MEDI', 'YEARS_BEGINEXPLUATATION_MEDI', 'YEARS_BUILD_MEDI', 'COMMONAREA_MEDI', 'ELEVATORS_MEDI', 'ENTRANCES_MEDI', 'FLOORSMAX_MEDI', 'FLOORSMIN_MEDI', 'LANDAREA_MEDI', 'LIVINGAPARTMENTS_MEDI', 'LIVINGAREA_MEDI', 'NONLIVINGAPARTMENTS_MEDI', 'NONLIVINGAREA_MEDI', 'FONDKAPREMONT_MODE', 'HOUSETYPE_MODE', 'TOTALAREA_MODE', 'WALLSMATERIAL_MODE', 'EMERGENCYSTATE_MODE', 'OBS_30_CNT_SOCIAL_CIRCLE', 'DEF_30_CNT_SOCIAL_CIRCLE', 'OBS_60_CNT_SOCIAL_CIRCLE', 'DEF_60_CNT_SOCIAL_CIRCLE', 'DAYS_LAST_PHONE_CHANGE', 'FLAG_DOCUMENT_2', 'FLAG_DOCUMENT_3', 'FLAG_DOCUMENT_4', 'FLAG_DOCUMENT_5', 'FLAG_DOCUMENT_6', 'FLAG_DOCUMENT_7', 'FLAG_DOCUMENT_8', 'FLAG_DOCUMENT_9', 'FLAG_DOCUMENT_10', 'FLAG_DOCUMENT_11', 'FLAG_DOCUMENT_12', 'FLAG_DOCUMENT_13', 'FLAG_DOCUMENT_14', 'FLAG_DOCUMENT_15', 'FLAG_DOCUMENT_16', 'FLAG_DOCUMENT_17', 'FLAG_DOCUMENT_18', 'FLAG_DOCUMENT_19', 'FLAG_DOCUMENT_20', 'FLAG_DOCUMENT_21', 'AMT_REQ_CREDIT_BUREAU_HOUR', 'AMT_REQ_CREDIT_BUREAU_DAY', 'AMT_REQ_CREDIT_BUREAU_WEEK', 'AMT_REQ_CREDIT_BUREAU_MON', 'AMT_REQ_CREDIT_BUREAU_QRT', 'AMT_REQ_CREDIT_BUREAU_YEAR']\n"
          ]
        }
      ],
      "source": [
        "# Configures dataframes display\n",
        "pd.set_option('display.max_columns', None)\n",
        "pd.set_option('display.max_rows', None)\n",
        "\n",
        "### Complete in this cell: Show all columns in the training dataset\n",
        "print(app_train.columns.tolist())"
      ]
    },
    {
      "cell_type": "markdown",
      "id": "2dc4835f-90c3-4049-9ec2-44d102201104",
      "metadata": {
        "id": "2dc4835f-90c3-4049-9ec2-44d102201104"
      },
      "source": [
        "1.4. Show the first 5 records of the training dataset, transpose the dataframe to see each record as a column and features as rows, make sure all features are visualized. Take your time to review what kind of information you can gather from this data."
      ]
    },
    {
      "cell_type": "code",
      "execution_count": null,
      "id": "ac9c85b3-52e0-4b80-9753-afb81f92bd0d",
      "metadata": {
        "id": "ac9c85b3-52e0-4b80-9753-afb81f92bd0d",
        "colab": {
          "base_uri": "https://localhost:8080/",
          "height": 1000
        },
        "outputId": "49b57581-7b1a-49fa-88d4-aa5c03604fe2"
      },
      "outputs": [
        {
          "output_type": "execute_result",
          "data": {
            "text/plain": [
              "                                                 0  \\\n",
              "Unnamed: 0                                  187399   \n",
              "SK_ID_CURR                                  317244   \n",
              "TARGET                                           0   \n",
              "NAME_CONTRACT_TYPE                      Cash loans   \n",
              "CODE_GENDER                                      F   \n",
              "FLAG_OWN_CAR                                     Y   \n",
              "FLAG_OWN_REALTY                                  Y   \n",
              "CNT_CHILDREN                                     1   \n",
              "AMT_INCOME_TOTAL                          202500.0   \n",
              "AMT_CREDIT                                640080.0   \n",
              "AMT_ANNUITY                                29970.0   \n",
              "AMT_GOODS_PRICE                           450000.0   \n",
              "NAME_TYPE_SUITE                      Unaccompanied   \n",
              "NAME_INCOME_TYPE              Commercial associate   \n",
              "NAME_EDUCATION_TYPE               Higher education   \n",
              "NAME_FAMILY_STATUS                         Married   \n",
              "NAME_HOUSING_TYPE                House / apartment   \n",
              "REGION_POPULATION_RELATIVE                0.005313   \n",
              "DAYS_BIRTH                                   -8986   \n",
              "DAYS_EMPLOYED                                 -377   \n",
              "DAYS_REGISTRATION                          -8696.0   \n",
              "DAYS_ID_PUBLISH                              -1399   \n",
              "OWN_CAR_AGE                                   15.0   \n",
              "FLAG_MOBIL                                       1   \n",
              "FLAG_EMP_PHONE                                   1   \n",
              "FLAG_WORK_PHONE                                  0   \n",
              "FLAG_CONT_MOBILE                                 1   \n",
              "FLAG_PHONE                                       0   \n",
              "FLAG_EMAIL                                       0   \n",
              "OCCUPATION_TYPE                         Core staff   \n",
              "CNT_FAM_MEMBERS                                3.0   \n",
              "REGION_RATING_CLIENT                             2   \n",
              "REGION_RATING_CLIENT_W_CITY                      2   \n",
              "WEEKDAY_APPR_PROCESS_START               WEDNESDAY   \n",
              "HOUR_APPR_PROCESS_START                         13   \n",
              "REG_REGION_NOT_LIVE_REGION                       0   \n",
              "REG_REGION_NOT_WORK_REGION                       0   \n",
              "LIVE_REGION_NOT_WORK_REGION                      0   \n",
              "REG_CITY_NOT_LIVE_CITY                           0   \n",
              "REG_CITY_NOT_WORK_CITY                           0   \n",
              "LIVE_CITY_NOT_WORK_CITY                          0   \n",
              "ORGANIZATION_TYPE                           School   \n",
              "EXT_SOURCE_1                                   NaN   \n",
              "EXT_SOURCE_2                              0.374166   \n",
              "EXT_SOURCE_3                               0.67383   \n",
              "APARTMENTS_AVG                              0.0711   \n",
              "BASEMENTAREA_AVG                            0.0874   \n",
              "YEARS_BEGINEXPLUATATION_AVG                 0.9841   \n",
              "YEARS_BUILD_AVG                                NaN   \n",
              "COMMONAREA_AVG                                 NaN   \n",
              "ELEVATORS_AVG                                  NaN   \n",
              "ENTRANCES_AVG                               0.1724   \n",
              "FLOORSMAX_AVG                               0.1667   \n",
              "FLOORSMIN_AVG                               0.0417   \n",
              "LANDAREA_AVG                                0.0877   \n",
              "LIVINGAPARTMENTS_AVG                           NaN   \n",
              "LIVINGAREA_AVG                              0.0435   \n",
              "NONLIVINGAPARTMENTS_AVG                        NaN   \n",
              "NONLIVINGAREA_AVG                              NaN   \n",
              "APARTMENTS_MODE                             0.0725   \n",
              "BASEMENTAREA_MODE                           0.0907   \n",
              "YEARS_BEGINEXPLUATATION_MODE                0.9841   \n",
              "YEARS_BUILD_MODE                               NaN   \n",
              "COMMONAREA_MODE                                NaN   \n",
              "ELEVATORS_MODE                                 NaN   \n",
              "ENTRANCES_MODE                              0.1724   \n",
              "FLOORSMAX_MODE                              0.1667   \n",
              "FLOORSMIN_MODE                              0.0417   \n",
              "LANDAREA_MODE                               0.0897   \n",
              "LIVINGAPARTMENTS_MODE                          NaN   \n",
              "LIVINGAREA_MODE                             0.0453   \n",
              "NONLIVINGAPARTMENTS_MODE                       NaN   \n",
              "NONLIVINGAREA_MODE                             NaN   \n",
              "APARTMENTS_MEDI                             0.0718   \n",
              "BASEMENTAREA_MEDI                           0.0874   \n",
              "YEARS_BEGINEXPLUATATION_MEDI                0.9841   \n",
              "YEARS_BUILD_MEDI                               NaN   \n",
              "COMMONAREA_MEDI                                NaN   \n",
              "ELEVATORS_MEDI                                 NaN   \n",
              "ENTRANCES_MEDI                              0.1724   \n",
              "FLOORSMAX_MEDI                              0.1667   \n",
              "FLOORSMIN_MEDI                              0.0417   \n",
              "LANDAREA_MEDI                               0.0892   \n",
              "LIVINGAPARTMENTS_MEDI                          NaN   \n",
              "LIVINGAREA_MEDI                             0.0443   \n",
              "NONLIVINGAPARTMENTS_MEDI                       NaN   \n",
              "NONLIVINGAREA_MEDI                             NaN   \n",
              "FONDKAPREMONT_MODE                reg oper account   \n",
              "HOUSETYPE_MODE                      block of flats   \n",
              "TOTALAREA_MODE                              0.0588   \n",
              "WALLSMATERIAL_MODE                           Panel   \n",
              "EMERGENCYSTATE_MODE                             No   \n",
              "OBS_30_CNT_SOCIAL_CIRCLE                       0.0   \n",
              "DEF_30_CNT_SOCIAL_CIRCLE                       0.0   \n",
              "OBS_60_CNT_SOCIAL_CIRCLE                       0.0   \n",
              "DEF_60_CNT_SOCIAL_CIRCLE                       0.0   \n",
              "DAYS_LAST_PHONE_CHANGE                      -234.0   \n",
              "FLAG_DOCUMENT_2                                  0   \n",
              "FLAG_DOCUMENT_3                                  1   \n",
              "FLAG_DOCUMENT_4                                  0   \n",
              "FLAG_DOCUMENT_5                                  0   \n",
              "FLAG_DOCUMENT_6                                  0   \n",
              "FLAG_DOCUMENT_7                                  0   \n",
              "FLAG_DOCUMENT_8                                  0   \n",
              "FLAG_DOCUMENT_9                                  0   \n",
              "FLAG_DOCUMENT_10                                 0   \n",
              "FLAG_DOCUMENT_11                                 0   \n",
              "FLAG_DOCUMENT_12                                 0   \n",
              "FLAG_DOCUMENT_13                                 0   \n",
              "FLAG_DOCUMENT_14                                 0   \n",
              "FLAG_DOCUMENT_15                                 0   \n",
              "FLAG_DOCUMENT_16                                 0   \n",
              "FLAG_DOCUMENT_17                                 0   \n",
              "FLAG_DOCUMENT_18                                 0   \n",
              "FLAG_DOCUMENT_19                                 0   \n",
              "FLAG_DOCUMENT_20                                 0   \n",
              "FLAG_DOCUMENT_21                                 0   \n",
              "AMT_REQ_CREDIT_BUREAU_HOUR                     0.0   \n",
              "AMT_REQ_CREDIT_BUREAU_DAY                      0.0   \n",
              "AMT_REQ_CREDIT_BUREAU_WEEK                     0.0   \n",
              "AMT_REQ_CREDIT_BUREAU_MON                      0.0   \n",
              "AMT_REQ_CREDIT_BUREAU_QRT                      0.0   \n",
              "AMT_REQ_CREDIT_BUREAU_YEAR                     0.0   \n",
              "\n",
              "                                                          1  \\\n",
              "Unnamed: 0                                            84777   \n",
              "SK_ID_CURR                                           198357   \n",
              "TARGET                                                    0   \n",
              "NAME_CONTRACT_TYPE                               Cash loans   \n",
              "CODE_GENDER                                               M   \n",
              "FLAG_OWN_CAR                                              N   \n",
              "FLAG_OWN_REALTY                                           Y   \n",
              "CNT_CHILDREN                                              0   \n",
              "AMT_INCOME_TOTAL                                   135000.0   \n",
              "AMT_CREDIT                                         647046.0   \n",
              "AMT_ANNUITY                                         19048.5   \n",
              "AMT_GOODS_PRICE                                    463500.0   \n",
              "NAME_TYPE_SUITE                                      Family   \n",
              "NAME_INCOME_TYPE                                    Working   \n",
              "NAME_EDUCATION_TYPE           Secondary / secondary special   \n",
              "NAME_FAMILY_STATUS                                  Married   \n",
              "NAME_HOUSING_TYPE                         House / apartment   \n",
              "REGION_POPULATION_RELATIVE                          0.01885   \n",
              "DAYS_BIRTH                                           -13826   \n",
              "DAYS_EMPLOYED                                         -7128   \n",
              "DAYS_REGISTRATION                                   -4097.0   \n",
              "DAYS_ID_PUBLISH                                       -4321   \n",
              "OWN_CAR_AGE                                             NaN   \n",
              "FLAG_MOBIL                                                1   \n",
              "FLAG_EMP_PHONE                                            1   \n",
              "FLAG_WORK_PHONE                                           0   \n",
              "FLAG_CONT_MOBILE                                          1   \n",
              "FLAG_PHONE                                                0   \n",
              "FLAG_EMAIL                                                0   \n",
              "OCCUPATION_TYPE                                    Laborers   \n",
              "CNT_FAM_MEMBERS                                         2.0   \n",
              "REGION_RATING_CLIENT                                      2   \n",
              "REGION_RATING_CLIENT_W_CITY                               2   \n",
              "WEEKDAY_APPR_PROCESS_START                         SATURDAY   \n",
              "HOUR_APPR_PROCESS_START                                  10   \n",
              "REG_REGION_NOT_LIVE_REGION                                0   \n",
              "REG_REGION_NOT_WORK_REGION                                0   \n",
              "LIVE_REGION_NOT_WORK_REGION                               0   \n",
              "REG_CITY_NOT_LIVE_CITY                                    0   \n",
              "REG_CITY_NOT_WORK_CITY                                    0   \n",
              "LIVE_CITY_NOT_WORK_CITY                                   0   \n",
              "ORGANIZATION_TYPE                         Industry: type 11   \n",
              "EXT_SOURCE_1                                            NaN   \n",
              "EXT_SOURCE_2                                       0.420803   \n",
              "EXT_SOURCE_3                                       0.526295   \n",
              "APARTMENTS_AVG                                          NaN   \n",
              "BASEMENTAREA_AVG                                        NaN   \n",
              "YEARS_BEGINEXPLUATATION_AVG                             NaN   \n",
              "YEARS_BUILD_AVG                                         NaN   \n",
              "COMMONAREA_AVG                                          NaN   \n",
              "ELEVATORS_AVG                                           NaN   \n",
              "ENTRANCES_AVG                                           NaN   \n",
              "FLOORSMAX_AVG                                           NaN   \n",
              "FLOORSMIN_AVG                                           NaN   \n",
              "LANDAREA_AVG                                            NaN   \n",
              "LIVINGAPARTMENTS_AVG                                    NaN   \n",
              "LIVINGAREA_AVG                                          NaN   \n",
              "NONLIVINGAPARTMENTS_AVG                                 NaN   \n",
              "NONLIVINGAREA_AVG                                       NaN   \n",
              "APARTMENTS_MODE                                         NaN   \n",
              "BASEMENTAREA_MODE                                       NaN   \n",
              "YEARS_BEGINEXPLUATATION_MODE                            NaN   \n",
              "YEARS_BUILD_MODE                                        NaN   \n",
              "COMMONAREA_MODE                                         NaN   \n",
              "ELEVATORS_MODE                                          NaN   \n",
              "ENTRANCES_MODE                                          NaN   \n",
              "FLOORSMAX_MODE                                          NaN   \n",
              "FLOORSMIN_MODE                                          NaN   \n",
              "LANDAREA_MODE                                           NaN   \n",
              "LIVINGAPARTMENTS_MODE                                   NaN   \n",
              "LIVINGAREA_MODE                                         NaN   \n",
              "NONLIVINGAPARTMENTS_MODE                                NaN   \n",
              "NONLIVINGAREA_MODE                                      NaN   \n",
              "APARTMENTS_MEDI                                         NaN   \n",
              "BASEMENTAREA_MEDI                                       NaN   \n",
              "YEARS_BEGINEXPLUATATION_MEDI                            NaN   \n",
              "YEARS_BUILD_MEDI                                        NaN   \n",
              "COMMONAREA_MEDI                                         NaN   \n",
              "ELEVATORS_MEDI                                          NaN   \n",
              "ENTRANCES_MEDI                                          NaN   \n",
              "FLOORSMAX_MEDI                                          NaN   \n",
              "FLOORSMIN_MEDI                                          NaN   \n",
              "LANDAREA_MEDI                                           NaN   \n",
              "LIVINGAPARTMENTS_MEDI                                   NaN   \n",
              "LIVINGAREA_MEDI                                         NaN   \n",
              "NONLIVINGAPARTMENTS_MEDI                                NaN   \n",
              "NONLIVINGAREA_MEDI                                      NaN   \n",
              "FONDKAPREMONT_MODE                                      NaN   \n",
              "HOUSETYPE_MODE                                          NaN   \n",
              "TOTALAREA_MODE                                          NaN   \n",
              "WALLSMATERIAL_MODE                                      NaN   \n",
              "EMERGENCYSTATE_MODE                                     NaN   \n",
              "OBS_30_CNT_SOCIAL_CIRCLE                                2.0   \n",
              "DEF_30_CNT_SOCIAL_CIRCLE                                0.0   \n",
              "OBS_60_CNT_SOCIAL_CIRCLE                                2.0   \n",
              "DEF_60_CNT_SOCIAL_CIRCLE                                0.0   \n",
              "DAYS_LAST_PHONE_CHANGE                              -1896.0   \n",
              "FLAG_DOCUMENT_2                                           0   \n",
              "FLAG_DOCUMENT_3                                           1   \n",
              "FLAG_DOCUMENT_4                                           0   \n",
              "FLAG_DOCUMENT_5                                           0   \n",
              "FLAG_DOCUMENT_6                                           0   \n",
              "FLAG_DOCUMENT_7                                           0   \n",
              "FLAG_DOCUMENT_8                                           0   \n",
              "FLAG_DOCUMENT_9                                           0   \n",
              "FLAG_DOCUMENT_10                                          0   \n",
              "FLAG_DOCUMENT_11                                          0   \n",
              "FLAG_DOCUMENT_12                                          0   \n",
              "FLAG_DOCUMENT_13                                          0   \n",
              "FLAG_DOCUMENT_14                                          0   \n",
              "FLAG_DOCUMENT_15                                          0   \n",
              "FLAG_DOCUMENT_16                                          0   \n",
              "FLAG_DOCUMENT_17                                          0   \n",
              "FLAG_DOCUMENT_18                                          0   \n",
              "FLAG_DOCUMENT_19                                          0   \n",
              "FLAG_DOCUMENT_20                                          0   \n",
              "FLAG_DOCUMENT_21                                          0   \n",
              "AMT_REQ_CREDIT_BUREAU_HOUR                              0.0   \n",
              "AMT_REQ_CREDIT_BUREAU_DAY                               0.0   \n",
              "AMT_REQ_CREDIT_BUREAU_WEEK                              0.0   \n",
              "AMT_REQ_CREDIT_BUREAU_MON                               0.0   \n",
              "AMT_REQ_CREDIT_BUREAU_QRT                               1.0   \n",
              "AMT_REQ_CREDIT_BUREAU_YEAR                              5.0   \n",
              "\n",
              "                                                          2  \\\n",
              "Unnamed: 0                                           268140   \n",
              "SK_ID_CURR                                           410700   \n",
              "TARGET                                                    0   \n",
              "NAME_CONTRACT_TYPE                               Cash loans   \n",
              "CODE_GENDER                                               F   \n",
              "FLAG_OWN_CAR                                              N   \n",
              "FLAG_OWN_REALTY                                           Y   \n",
              "CNT_CHILDREN                                              0   \n",
              "AMT_INCOME_TOTAL                                   135000.0   \n",
              "AMT_CREDIT                                        1078200.0   \n",
              "AMT_ANNUITY                                         31653.0   \n",
              "AMT_GOODS_PRICE                                    900000.0   \n",
              "NAME_TYPE_SUITE                                      Family   \n",
              "NAME_INCOME_TYPE                                    Working   \n",
              "NAME_EDUCATION_TYPE           Secondary / secondary special   \n",
              "NAME_FAMILY_STATUS                     Single / not married   \n",
              "NAME_HOUSING_TYPE                         House / apartment   \n",
              "REGION_POPULATION_RELATIVE                         0.030755   \n",
              "DAYS_BIRTH                                           -22160   \n",
              "DAYS_EMPLOYED                                         -4968   \n",
              "DAYS_REGISTRATION                                  -10584.0   \n",
              "DAYS_ID_PUBLISH                                       -4155   \n",
              "OWN_CAR_AGE                                             NaN   \n",
              "FLAG_MOBIL                                                1   \n",
              "FLAG_EMP_PHONE                                            1   \n",
              "FLAG_WORK_PHONE                                           0   \n",
              "FLAG_CONT_MOBILE                                          1   \n",
              "FLAG_PHONE                                                1   \n",
              "FLAG_EMAIL                                                0   \n",
              "OCCUPATION_TYPE                       High skill tech staff   \n",
              "CNT_FAM_MEMBERS                                         1.0   \n",
              "REGION_RATING_CLIENT                                      2   \n",
              "REGION_RATING_CLIENT_W_CITY                               2   \n",
              "WEEKDAY_APPR_PROCESS_START                           FRIDAY   \n",
              "HOUR_APPR_PROCESS_START                                  12   \n",
              "REG_REGION_NOT_LIVE_REGION                                0   \n",
              "REG_REGION_NOT_WORK_REGION                                0   \n",
              "LIVE_REGION_NOT_WORK_REGION                               0   \n",
              "REG_CITY_NOT_LIVE_CITY                                    0   \n",
              "REG_CITY_NOT_WORK_CITY                                    0   \n",
              "LIVE_CITY_NOT_WORK_CITY                                   0   \n",
              "ORGANIZATION_TYPE                         Transport: type 4   \n",
              "EXT_SOURCE_1                                            NaN   \n",
              "EXT_SOURCE_2                                        0.50232   \n",
              "EXT_SOURCE_3                                        0.58674   \n",
              "APARTMENTS_AVG                                       0.1464   \n",
              "BASEMENTAREA_AVG                                      0.106   \n",
              "YEARS_BEGINEXPLUATATION_AVG                          0.9861   \n",
              "YEARS_BUILD_AVG                                      0.8096   \n",
              "COMMONAREA_AVG                                       0.0121   \n",
              "ELEVATORS_AVG                                          0.16   \n",
              "ENTRANCES_AVG                                        0.1379   \n",
              "FLOORSMAX_AVG                                        0.3333   \n",
              "FLOORSMIN_AVG                                        0.2083   \n",
              "LANDAREA_AVG                                            0.0   \n",
              "LIVINGAPARTMENTS_AVG                                 0.1189   \n",
              "LIVINGAREA_AVG                                         0.15   \n",
              "NONLIVINGAPARTMENTS_AVG                              0.0019   \n",
              "NONLIVINGAREA_AVG                                    0.0012   \n",
              "APARTMENTS_MODE                                      0.1481   \n",
              "BASEMENTAREA_MODE                                    0.1096   \n",
              "YEARS_BEGINEXPLUATATION_MODE                         0.9856   \n",
              "YEARS_BUILD_MODE                                     0.8105   \n",
              "COMMONAREA_MODE                                         0.0   \n",
              "ELEVATORS_MODE                                       0.1611   \n",
              "ENTRANCES_MODE                                       0.1379   \n",
              "FLOORSMAX_MODE                                       0.3333   \n",
              "FLOORSMIN_MODE                                       0.0417   \n",
              "LANDAREA_MODE                                           0.0   \n",
              "LIVINGAPARTMENTS_MODE                                0.1286   \n",
              "LIVINGAREA_MODE                                      0.1544   \n",
              "NONLIVINGAPARTMENTS_MODE                                0.0   \n",
              "NONLIVINGAREA_MODE                                      0.0   \n",
              "APARTMENTS_MEDI                                      0.1478   \n",
              "BASEMENTAREA_MEDI                                     0.106   \n",
              "YEARS_BEGINEXPLUATATION_MEDI                         0.9861   \n",
              "YEARS_BUILD_MEDI                                     0.8121   \n",
              "COMMONAREA_MEDI                                      0.0122   \n",
              "ELEVATORS_MEDI                                         0.16   \n",
              "ENTRANCES_MEDI                                       0.1379   \n",
              "FLOORSMAX_MEDI                                       0.3333   \n",
              "FLOORSMIN_MEDI                                       0.2083   \n",
              "LANDAREA_MEDI                                           0.0   \n",
              "LIVINGAPARTMENTS_MEDI                                 0.121   \n",
              "LIVINGAREA_MEDI                                      0.1527   \n",
              "NONLIVINGAPARTMENTS_MEDI                             0.0019   \n",
              "NONLIVINGAREA_MEDI                                   0.0013   \n",
              "FONDKAPREMONT_MODE                         reg oper account   \n",
              "HOUSETYPE_MODE                               block of flats   \n",
              "TOTALAREA_MODE                                       0.1327   \n",
              "WALLSMATERIAL_MODE                                    Panel   \n",
              "EMERGENCYSTATE_MODE                                      No   \n",
              "OBS_30_CNT_SOCIAL_CIRCLE                                0.0   \n",
              "DEF_30_CNT_SOCIAL_CIRCLE                                0.0   \n",
              "OBS_60_CNT_SOCIAL_CIRCLE                                0.0   \n",
              "DEF_60_CNT_SOCIAL_CIRCLE                                0.0   \n",
              "DAYS_LAST_PHONE_CHANGE                              -2504.0   \n",
              "FLAG_DOCUMENT_2                                           0   \n",
              "FLAG_DOCUMENT_3                                           1   \n",
              "FLAG_DOCUMENT_4                                           0   \n",
              "FLAG_DOCUMENT_5                                           0   \n",
              "FLAG_DOCUMENT_6                                           0   \n",
              "FLAG_DOCUMENT_7                                           0   \n",
              "FLAG_DOCUMENT_8                                           0   \n",
              "FLAG_DOCUMENT_9                                           0   \n",
              "FLAG_DOCUMENT_10                                          0   \n",
              "FLAG_DOCUMENT_11                                          0   \n",
              "FLAG_DOCUMENT_12                                          0   \n",
              "FLAG_DOCUMENT_13                                          0   \n",
              "FLAG_DOCUMENT_14                                          0   \n",
              "FLAG_DOCUMENT_15                                          0   \n",
              "FLAG_DOCUMENT_16                                          0   \n",
              "FLAG_DOCUMENT_17                                          0   \n",
              "FLAG_DOCUMENT_18                                          0   \n",
              "FLAG_DOCUMENT_19                                          0   \n",
              "FLAG_DOCUMENT_20                                          0   \n",
              "FLAG_DOCUMENT_21                                          0   \n",
              "AMT_REQ_CREDIT_BUREAU_HOUR                              0.0   \n",
              "AMT_REQ_CREDIT_BUREAU_DAY                               0.0   \n",
              "AMT_REQ_CREDIT_BUREAU_WEEK                              0.0   \n",
              "AMT_REQ_CREDIT_BUREAU_MON                               0.0   \n",
              "AMT_REQ_CREDIT_BUREAU_QRT                               0.0   \n",
              "AMT_REQ_CREDIT_BUREAU_YEAR                              1.0   \n",
              "\n",
              "                                              3                              4  \n",
              "Unnamed: 0                               270686                          33785  \n",
              "SK_ID_CURR                               413785                         139141  \n",
              "TARGET                                        0                              0  \n",
              "NAME_CONTRACT_TYPE                   Cash loans                     Cash loans  \n",
              "CODE_GENDER                                   F                              F  \n",
              "FLAG_OWN_CAR                                  N                              N  \n",
              "FLAG_OWN_REALTY                               Y                              Y  \n",
              "CNT_CHILDREN                                  0                              0  \n",
              "AMT_INCOME_TOTAL                       202500.0                        54000.0  \n",
              "AMT_CREDIT                            1223010.0                        97038.0  \n",
              "AMT_ANNUITY                             51948.0                         7029.0  \n",
              "AMT_GOODS_PRICE                       1125000.0                        81000.0  \n",
              "NAME_TYPE_SUITE                   Unaccompanied                         Family  \n",
              "NAME_INCOME_TYPE                        Working                        Working  \n",
              "NAME_EDUCATION_TYPE            Higher education  Secondary / secondary special  \n",
              "NAME_FAMILY_STATUS                      Married                        Married  \n",
              "NAME_HOUSING_TYPE             House / apartment              House / apartment  \n",
              "REGION_POPULATION_RELATIVE             0.035792                       0.028663  \n",
              "DAYS_BIRTH                               -16926                         -16333  \n",
              "DAYS_EMPLOYED                             -2275                          -8925  \n",
              "DAYS_REGISTRATION                          -2.0                        -6248.0  \n",
              "DAYS_ID_PUBLISH                            -381                          -4143  \n",
              "OWN_CAR_AGE                                 NaN                            NaN  \n",
              "FLAG_MOBIL                                    1                              1  \n",
              "FLAG_EMP_PHONE                                1                              1  \n",
              "FLAG_WORK_PHONE                               0                              0  \n",
              "FLAG_CONT_MOBILE                              1                              1  \n",
              "FLAG_PHONE                                    1                              0  \n",
              "FLAG_EMAIL                                    0                              0  \n",
              "OCCUPATION_TYPE                     Accountants                       Laborers  \n",
              "CNT_FAM_MEMBERS                             2.0                            2.0  \n",
              "REGION_RATING_CLIENT                          2                              2  \n",
              "REGION_RATING_CLIENT_W_CITY                   2                              2  \n",
              "WEEKDAY_APPR_PROCESS_START            WEDNESDAY                       THURSDAY  \n",
              "HOUR_APPR_PROCESS_START                      12                             16  \n",
              "REG_REGION_NOT_LIVE_REGION                    0                              0  \n",
              "REG_REGION_NOT_WORK_REGION                    0                              0  \n",
              "LIVE_REGION_NOT_WORK_REGION                   0                              0  \n",
              "REG_CITY_NOT_LIVE_CITY                        0                              0  \n",
              "REG_CITY_NOT_WORK_CITY                        0                              0  \n",
              "LIVE_CITY_NOT_WORK_CITY                       0                              0  \n",
              "ORGANIZATION_TYPE                 Self-employed                   Kindergarten  \n",
              "EXT_SOURCE_1                           0.600451                       0.797295  \n",
              "EXT_SOURCE_2                           0.267774                       0.411818  \n",
              "EXT_SOURCE_3                             0.3808                            NaN  \n",
              "APARTMENTS_AVG                              NaN                            NaN  \n",
              "BASEMENTAREA_AVG                            NaN                            NaN  \n",
              "YEARS_BEGINEXPLUATATION_AVG                 NaN                            NaN  \n",
              "YEARS_BUILD_AVG                             NaN                            NaN  \n",
              "COMMONAREA_AVG                              NaN                            NaN  \n",
              "ELEVATORS_AVG                               NaN                            NaN  \n",
              "ENTRANCES_AVG                               NaN                            NaN  \n",
              "FLOORSMAX_AVG                               NaN                            NaN  \n",
              "FLOORSMIN_AVG                               NaN                            NaN  \n",
              "LANDAREA_AVG                                NaN                            NaN  \n",
              "LIVINGAPARTMENTS_AVG                        NaN                            NaN  \n",
              "LIVINGAREA_AVG                              NaN                            NaN  \n",
              "NONLIVINGAPARTMENTS_AVG                     NaN                            NaN  \n",
              "NONLIVINGAREA_AVG                           NaN                            NaN  \n",
              "APARTMENTS_MODE                             NaN                            NaN  \n",
              "BASEMENTAREA_MODE                           NaN                            NaN  \n",
              "YEARS_BEGINEXPLUATATION_MODE                NaN                            NaN  \n",
              "YEARS_BUILD_MODE                            NaN                            NaN  \n",
              "COMMONAREA_MODE                             NaN                            NaN  \n",
              "ELEVATORS_MODE                              NaN                            NaN  \n",
              "ENTRANCES_MODE                              NaN                            NaN  \n",
              "FLOORSMAX_MODE                              NaN                            NaN  \n",
              "FLOORSMIN_MODE                              NaN                            NaN  \n",
              "LANDAREA_MODE                               NaN                            NaN  \n",
              "LIVINGAPARTMENTS_MODE                       NaN                            NaN  \n",
              "LIVINGAREA_MODE                             NaN                            NaN  \n",
              "NONLIVINGAPARTMENTS_MODE                    NaN                            NaN  \n",
              "NONLIVINGAREA_MODE                          NaN                            NaN  \n",
              "APARTMENTS_MEDI                             NaN                            NaN  \n",
              "BASEMENTAREA_MEDI                           NaN                            NaN  \n",
              "YEARS_BEGINEXPLUATATION_MEDI                NaN                            NaN  \n",
              "YEARS_BUILD_MEDI                            NaN                            NaN  \n",
              "COMMONAREA_MEDI                             NaN                            NaN  \n",
              "ELEVATORS_MEDI                              NaN                            NaN  \n",
              "ENTRANCES_MEDI                              NaN                            NaN  \n",
              "FLOORSMAX_MEDI                              NaN                            NaN  \n",
              "FLOORSMIN_MEDI                              NaN                            NaN  \n",
              "LANDAREA_MEDI                               NaN                            NaN  \n",
              "LIVINGAPARTMENTS_MEDI                       NaN                            NaN  \n",
              "LIVINGAREA_MEDI                             NaN                            NaN  \n",
              "NONLIVINGAPARTMENTS_MEDI                    NaN                            NaN  \n",
              "NONLIVINGAREA_MEDI                          NaN                            NaN  \n",
              "FONDKAPREMONT_MODE                          NaN                            NaN  \n",
              "HOUSETYPE_MODE                              NaN                            NaN  \n",
              "TOTALAREA_MODE                              NaN                            NaN  \n",
              "WALLSMATERIAL_MODE                          NaN                            NaN  \n",
              "EMERGENCYSTATE_MODE                         NaN                            NaN  \n",
              "OBS_30_CNT_SOCIAL_CIRCLE                    1.0                            0.0  \n",
              "DEF_30_CNT_SOCIAL_CIRCLE                    0.0                            0.0  \n",
              "OBS_60_CNT_SOCIAL_CIRCLE                    1.0                            0.0  \n",
              "DEF_60_CNT_SOCIAL_CIRCLE                    0.0                            0.0  \n",
              "DAYS_LAST_PHONE_CHANGE                      0.0                        -1492.0  \n",
              "FLAG_DOCUMENT_2                               0                              0  \n",
              "FLAG_DOCUMENT_3                               1                              1  \n",
              "FLAG_DOCUMENT_4                               0                              0  \n",
              "FLAG_DOCUMENT_5                               0                              0  \n",
              "FLAG_DOCUMENT_6                               0                              0  \n",
              "FLAG_DOCUMENT_7                               0                              0  \n",
              "FLAG_DOCUMENT_8                               0                              0  \n",
              "FLAG_DOCUMENT_9                               0                              0  \n",
              "FLAG_DOCUMENT_10                              0                              0  \n",
              "FLAG_DOCUMENT_11                              0                              0  \n",
              "FLAG_DOCUMENT_12                              0                              0  \n",
              "FLAG_DOCUMENT_13                              0                              0  \n",
              "FLAG_DOCUMENT_14                              0                              0  \n",
              "FLAG_DOCUMENT_15                              0                              0  \n",
              "FLAG_DOCUMENT_16                              0                              0  \n",
              "FLAG_DOCUMENT_17                              0                              0  \n",
              "FLAG_DOCUMENT_18                              0                              0  \n",
              "FLAG_DOCUMENT_19                              0                              0  \n",
              "FLAG_DOCUMENT_20                              0                              0  \n",
              "FLAG_DOCUMENT_21                              0                              0  \n",
              "AMT_REQ_CREDIT_BUREAU_HOUR                  0.0                            0.0  \n",
              "AMT_REQ_CREDIT_BUREAU_DAY                   0.0                            0.0  \n",
              "AMT_REQ_CREDIT_BUREAU_WEEK                  0.0                            0.0  \n",
              "AMT_REQ_CREDIT_BUREAU_MON                   0.0                            0.0  \n",
              "AMT_REQ_CREDIT_BUREAU_QRT                   1.0                            0.0  \n",
              "AMT_REQ_CREDIT_BUREAU_YEAR                  1.0                            7.0  "
            ],
            "text/html": [
              "\n",
              "  <div id=\"df-deab8eec-cc5f-4858-b9b3-972d45b252b2\">\n",
              "    <div class=\"colab-df-container\">\n",
              "      <div>\n",
              "<style scoped>\n",
              "    .dataframe tbody tr th:only-of-type {\n",
              "        vertical-align: middle;\n",
              "    }\n",
              "\n",
              "    .dataframe tbody tr th {\n",
              "        vertical-align: top;\n",
              "    }\n",
              "\n",
              "    .dataframe thead th {\n",
              "        text-align: right;\n",
              "    }\n",
              "</style>\n",
              "<table border=\"1\" class=\"dataframe\">\n",
              "  <thead>\n",
              "    <tr style=\"text-align: right;\">\n",
              "      <th></th>\n",
              "      <th>0</th>\n",
              "      <th>1</th>\n",
              "      <th>2</th>\n",
              "      <th>3</th>\n",
              "      <th>4</th>\n",
              "    </tr>\n",
              "  </thead>\n",
              "  <tbody>\n",
              "    <tr>\n",
              "      <th>Unnamed: 0</th>\n",
              "      <td>187399</td>\n",
              "      <td>84777</td>\n",
              "      <td>268140</td>\n",
              "      <td>270686</td>\n",
              "      <td>33785</td>\n",
              "    </tr>\n",
              "    <tr>\n",
              "      <th>SK_ID_CURR</th>\n",
              "      <td>317244</td>\n",
              "      <td>198357</td>\n",
              "      <td>410700</td>\n",
              "      <td>413785</td>\n",
              "      <td>139141</td>\n",
              "    </tr>\n",
              "    <tr>\n",
              "      <th>TARGET</th>\n",
              "      <td>0</td>\n",
              "      <td>0</td>\n",
              "      <td>0</td>\n",
              "      <td>0</td>\n",
              "      <td>0</td>\n",
              "    </tr>\n",
              "    <tr>\n",
              "      <th>NAME_CONTRACT_TYPE</th>\n",
              "      <td>Cash loans</td>\n",
              "      <td>Cash loans</td>\n",
              "      <td>Cash loans</td>\n",
              "      <td>Cash loans</td>\n",
              "      <td>Cash loans</td>\n",
              "    </tr>\n",
              "    <tr>\n",
              "      <th>CODE_GENDER</th>\n",
              "      <td>F</td>\n",
              "      <td>M</td>\n",
              "      <td>F</td>\n",
              "      <td>F</td>\n",
              "      <td>F</td>\n",
              "    </tr>\n",
              "    <tr>\n",
              "      <th>FLAG_OWN_CAR</th>\n",
              "      <td>Y</td>\n",
              "      <td>N</td>\n",
              "      <td>N</td>\n",
              "      <td>N</td>\n",
              "      <td>N</td>\n",
              "    </tr>\n",
              "    <tr>\n",
              "      <th>FLAG_OWN_REALTY</th>\n",
              "      <td>Y</td>\n",
              "      <td>Y</td>\n",
              "      <td>Y</td>\n",
              "      <td>Y</td>\n",
              "      <td>Y</td>\n",
              "    </tr>\n",
              "    <tr>\n",
              "      <th>CNT_CHILDREN</th>\n",
              "      <td>1</td>\n",
              "      <td>0</td>\n",
              "      <td>0</td>\n",
              "      <td>0</td>\n",
              "      <td>0</td>\n",
              "    </tr>\n",
              "    <tr>\n",
              "      <th>AMT_INCOME_TOTAL</th>\n",
              "      <td>202500.0</td>\n",
              "      <td>135000.0</td>\n",
              "      <td>135000.0</td>\n",
              "      <td>202500.0</td>\n",
              "      <td>54000.0</td>\n",
              "    </tr>\n",
              "    <tr>\n",
              "      <th>AMT_CREDIT</th>\n",
              "      <td>640080.0</td>\n",
              "      <td>647046.0</td>\n",
              "      <td>1078200.0</td>\n",
              "      <td>1223010.0</td>\n",
              "      <td>97038.0</td>\n",
              "    </tr>\n",
              "    <tr>\n",
              "      <th>AMT_ANNUITY</th>\n",
              "      <td>29970.0</td>\n",
              "      <td>19048.5</td>\n",
              "      <td>31653.0</td>\n",
              "      <td>51948.0</td>\n",
              "      <td>7029.0</td>\n",
              "    </tr>\n",
              "    <tr>\n",
              "      <th>AMT_GOODS_PRICE</th>\n",
              "      <td>450000.0</td>\n",
              "      <td>463500.0</td>\n",
              "      <td>900000.0</td>\n",
              "      <td>1125000.0</td>\n",
              "      <td>81000.0</td>\n",
              "    </tr>\n",
              "    <tr>\n",
              "      <th>NAME_TYPE_SUITE</th>\n",
              "      <td>Unaccompanied</td>\n",
              "      <td>Family</td>\n",
              "      <td>Family</td>\n",
              "      <td>Unaccompanied</td>\n",
              "      <td>Family</td>\n",
              "    </tr>\n",
              "    <tr>\n",
              "      <th>NAME_INCOME_TYPE</th>\n",
              "      <td>Commercial associate</td>\n",
              "      <td>Working</td>\n",
              "      <td>Working</td>\n",
              "      <td>Working</td>\n",
              "      <td>Working</td>\n",
              "    </tr>\n",
              "    <tr>\n",
              "      <th>NAME_EDUCATION_TYPE</th>\n",
              "      <td>Higher education</td>\n",
              "      <td>Secondary / secondary special</td>\n",
              "      <td>Secondary / secondary special</td>\n",
              "      <td>Higher education</td>\n",
              "      <td>Secondary / secondary special</td>\n",
              "    </tr>\n",
              "    <tr>\n",
              "      <th>NAME_FAMILY_STATUS</th>\n",
              "      <td>Married</td>\n",
              "      <td>Married</td>\n",
              "      <td>Single / not married</td>\n",
              "      <td>Married</td>\n",
              "      <td>Married</td>\n",
              "    </tr>\n",
              "    <tr>\n",
              "      <th>NAME_HOUSING_TYPE</th>\n",
              "      <td>House / apartment</td>\n",
              "      <td>House / apartment</td>\n",
              "      <td>House / apartment</td>\n",
              "      <td>House / apartment</td>\n",
              "      <td>House / apartment</td>\n",
              "    </tr>\n",
              "    <tr>\n",
              "      <th>REGION_POPULATION_RELATIVE</th>\n",
              "      <td>0.005313</td>\n",
              "      <td>0.01885</td>\n",
              "      <td>0.030755</td>\n",
              "      <td>0.035792</td>\n",
              "      <td>0.028663</td>\n",
              "    </tr>\n",
              "    <tr>\n",
              "      <th>DAYS_BIRTH</th>\n",
              "      <td>-8986</td>\n",
              "      <td>-13826</td>\n",
              "      <td>-22160</td>\n",
              "      <td>-16926</td>\n",
              "      <td>-16333</td>\n",
              "    </tr>\n",
              "    <tr>\n",
              "      <th>DAYS_EMPLOYED</th>\n",
              "      <td>-377</td>\n",
              "      <td>-7128</td>\n",
              "      <td>-4968</td>\n",
              "      <td>-2275</td>\n",
              "      <td>-8925</td>\n",
              "    </tr>\n",
              "    <tr>\n",
              "      <th>DAYS_REGISTRATION</th>\n",
              "      <td>-8696.0</td>\n",
              "      <td>-4097.0</td>\n",
              "      <td>-10584.0</td>\n",
              "      <td>-2.0</td>\n",
              "      <td>-6248.0</td>\n",
              "    </tr>\n",
              "    <tr>\n",
              "      <th>DAYS_ID_PUBLISH</th>\n",
              "      <td>-1399</td>\n",
              "      <td>-4321</td>\n",
              "      <td>-4155</td>\n",
              "      <td>-381</td>\n",
              "      <td>-4143</td>\n",
              "    </tr>\n",
              "    <tr>\n",
              "      <th>OWN_CAR_AGE</th>\n",
              "      <td>15.0</td>\n",
              "      <td>NaN</td>\n",
              "      <td>NaN</td>\n",
              "      <td>NaN</td>\n",
              "      <td>NaN</td>\n",
              "    </tr>\n",
              "    <tr>\n",
              "      <th>FLAG_MOBIL</th>\n",
              "      <td>1</td>\n",
              "      <td>1</td>\n",
              "      <td>1</td>\n",
              "      <td>1</td>\n",
              "      <td>1</td>\n",
              "    </tr>\n",
              "    <tr>\n",
              "      <th>FLAG_EMP_PHONE</th>\n",
              "      <td>1</td>\n",
              "      <td>1</td>\n",
              "      <td>1</td>\n",
              "      <td>1</td>\n",
              "      <td>1</td>\n",
              "    </tr>\n",
              "    <tr>\n",
              "      <th>FLAG_WORK_PHONE</th>\n",
              "      <td>0</td>\n",
              "      <td>0</td>\n",
              "      <td>0</td>\n",
              "      <td>0</td>\n",
              "      <td>0</td>\n",
              "    </tr>\n",
              "    <tr>\n",
              "      <th>FLAG_CONT_MOBILE</th>\n",
              "      <td>1</td>\n",
              "      <td>1</td>\n",
              "      <td>1</td>\n",
              "      <td>1</td>\n",
              "      <td>1</td>\n",
              "    </tr>\n",
              "    <tr>\n",
              "      <th>FLAG_PHONE</th>\n",
              "      <td>0</td>\n",
              "      <td>0</td>\n",
              "      <td>1</td>\n",
              "      <td>1</td>\n",
              "      <td>0</td>\n",
              "    </tr>\n",
              "    <tr>\n",
              "      <th>FLAG_EMAIL</th>\n",
              "      <td>0</td>\n",
              "      <td>0</td>\n",
              "      <td>0</td>\n",
              "      <td>0</td>\n",
              "      <td>0</td>\n",
              "    </tr>\n",
              "    <tr>\n",
              "      <th>OCCUPATION_TYPE</th>\n",
              "      <td>Core staff</td>\n",
              "      <td>Laborers</td>\n",
              "      <td>High skill tech staff</td>\n",
              "      <td>Accountants</td>\n",
              "      <td>Laborers</td>\n",
              "    </tr>\n",
              "    <tr>\n",
              "      <th>CNT_FAM_MEMBERS</th>\n",
              "      <td>3.0</td>\n",
              "      <td>2.0</td>\n",
              "      <td>1.0</td>\n",
              "      <td>2.0</td>\n",
              "      <td>2.0</td>\n",
              "    </tr>\n",
              "    <tr>\n",
              "      <th>REGION_RATING_CLIENT</th>\n",
              "      <td>2</td>\n",
              "      <td>2</td>\n",
              "      <td>2</td>\n",
              "      <td>2</td>\n",
              "      <td>2</td>\n",
              "    </tr>\n",
              "    <tr>\n",
              "      <th>REGION_RATING_CLIENT_W_CITY</th>\n",
              "      <td>2</td>\n",
              "      <td>2</td>\n",
              "      <td>2</td>\n",
              "      <td>2</td>\n",
              "      <td>2</td>\n",
              "    </tr>\n",
              "    <tr>\n",
              "      <th>WEEKDAY_APPR_PROCESS_START</th>\n",
              "      <td>WEDNESDAY</td>\n",
              "      <td>SATURDAY</td>\n",
              "      <td>FRIDAY</td>\n",
              "      <td>WEDNESDAY</td>\n",
              "      <td>THURSDAY</td>\n",
              "    </tr>\n",
              "    <tr>\n",
              "      <th>HOUR_APPR_PROCESS_START</th>\n",
              "      <td>13</td>\n",
              "      <td>10</td>\n",
              "      <td>12</td>\n",
              "      <td>12</td>\n",
              "      <td>16</td>\n",
              "    </tr>\n",
              "    <tr>\n",
              "      <th>REG_REGION_NOT_LIVE_REGION</th>\n",
              "      <td>0</td>\n",
              "      <td>0</td>\n",
              "      <td>0</td>\n",
              "      <td>0</td>\n",
              "      <td>0</td>\n",
              "    </tr>\n",
              "    <tr>\n",
              "      <th>REG_REGION_NOT_WORK_REGION</th>\n",
              "      <td>0</td>\n",
              "      <td>0</td>\n",
              "      <td>0</td>\n",
              "      <td>0</td>\n",
              "      <td>0</td>\n",
              "    </tr>\n",
              "    <tr>\n",
              "      <th>LIVE_REGION_NOT_WORK_REGION</th>\n",
              "      <td>0</td>\n",
              "      <td>0</td>\n",
              "      <td>0</td>\n",
              "      <td>0</td>\n",
              "      <td>0</td>\n",
              "    </tr>\n",
              "    <tr>\n",
              "      <th>REG_CITY_NOT_LIVE_CITY</th>\n",
              "      <td>0</td>\n",
              "      <td>0</td>\n",
              "      <td>0</td>\n",
              "      <td>0</td>\n",
              "      <td>0</td>\n",
              "    </tr>\n",
              "    <tr>\n",
              "      <th>REG_CITY_NOT_WORK_CITY</th>\n",
              "      <td>0</td>\n",
              "      <td>0</td>\n",
              "      <td>0</td>\n",
              "      <td>0</td>\n",
              "      <td>0</td>\n",
              "    </tr>\n",
              "    <tr>\n",
              "      <th>LIVE_CITY_NOT_WORK_CITY</th>\n",
              "      <td>0</td>\n",
              "      <td>0</td>\n",
              "      <td>0</td>\n",
              "      <td>0</td>\n",
              "      <td>0</td>\n",
              "    </tr>\n",
              "    <tr>\n",
              "      <th>ORGANIZATION_TYPE</th>\n",
              "      <td>School</td>\n",
              "      <td>Industry: type 11</td>\n",
              "      <td>Transport: type 4</td>\n",
              "      <td>Self-employed</td>\n",
              "      <td>Kindergarten</td>\n",
              "    </tr>\n",
              "    <tr>\n",
              "      <th>EXT_SOURCE_1</th>\n",
              "      <td>NaN</td>\n",
              "      <td>NaN</td>\n",
              "      <td>NaN</td>\n",
              "      <td>0.600451</td>\n",
              "      <td>0.797295</td>\n",
              "    </tr>\n",
              "    <tr>\n",
              "      <th>EXT_SOURCE_2</th>\n",
              "      <td>0.374166</td>\n",
              "      <td>0.420803</td>\n",
              "      <td>0.50232</td>\n",
              "      <td>0.267774</td>\n",
              "      <td>0.411818</td>\n",
              "    </tr>\n",
              "    <tr>\n",
              "      <th>EXT_SOURCE_3</th>\n",
              "      <td>0.67383</td>\n",
              "      <td>0.526295</td>\n",
              "      <td>0.58674</td>\n",
              "      <td>0.3808</td>\n",
              "      <td>NaN</td>\n",
              "    </tr>\n",
              "    <tr>\n",
              "      <th>APARTMENTS_AVG</th>\n",
              "      <td>0.0711</td>\n",
              "      <td>NaN</td>\n",
              "      <td>0.1464</td>\n",
              "      <td>NaN</td>\n",
              "      <td>NaN</td>\n",
              "    </tr>\n",
              "    <tr>\n",
              "      <th>BASEMENTAREA_AVG</th>\n",
              "      <td>0.0874</td>\n",
              "      <td>NaN</td>\n",
              "      <td>0.106</td>\n",
              "      <td>NaN</td>\n",
              "      <td>NaN</td>\n",
              "    </tr>\n",
              "    <tr>\n",
              "      <th>YEARS_BEGINEXPLUATATION_AVG</th>\n",
              "      <td>0.9841</td>\n",
              "      <td>NaN</td>\n",
              "      <td>0.9861</td>\n",
              "      <td>NaN</td>\n",
              "      <td>NaN</td>\n",
              "    </tr>\n",
              "    <tr>\n",
              "      <th>YEARS_BUILD_AVG</th>\n",
              "      <td>NaN</td>\n",
              "      <td>NaN</td>\n",
              "      <td>0.8096</td>\n",
              "      <td>NaN</td>\n",
              "      <td>NaN</td>\n",
              "    </tr>\n",
              "    <tr>\n",
              "      <th>COMMONAREA_AVG</th>\n",
              "      <td>NaN</td>\n",
              "      <td>NaN</td>\n",
              "      <td>0.0121</td>\n",
              "      <td>NaN</td>\n",
              "      <td>NaN</td>\n",
              "    </tr>\n",
              "    <tr>\n",
              "      <th>ELEVATORS_AVG</th>\n",
              "      <td>NaN</td>\n",
              "      <td>NaN</td>\n",
              "      <td>0.16</td>\n",
              "      <td>NaN</td>\n",
              "      <td>NaN</td>\n",
              "    </tr>\n",
              "    <tr>\n",
              "      <th>ENTRANCES_AVG</th>\n",
              "      <td>0.1724</td>\n",
              "      <td>NaN</td>\n",
              "      <td>0.1379</td>\n",
              "      <td>NaN</td>\n",
              "      <td>NaN</td>\n",
              "    </tr>\n",
              "    <tr>\n",
              "      <th>FLOORSMAX_AVG</th>\n",
              "      <td>0.1667</td>\n",
              "      <td>NaN</td>\n",
              "      <td>0.3333</td>\n",
              "      <td>NaN</td>\n",
              "      <td>NaN</td>\n",
              "    </tr>\n",
              "    <tr>\n",
              "      <th>FLOORSMIN_AVG</th>\n",
              "      <td>0.0417</td>\n",
              "      <td>NaN</td>\n",
              "      <td>0.2083</td>\n",
              "      <td>NaN</td>\n",
              "      <td>NaN</td>\n",
              "    </tr>\n",
              "    <tr>\n",
              "      <th>LANDAREA_AVG</th>\n",
              "      <td>0.0877</td>\n",
              "      <td>NaN</td>\n",
              "      <td>0.0</td>\n",
              "      <td>NaN</td>\n",
              "      <td>NaN</td>\n",
              "    </tr>\n",
              "    <tr>\n",
              "      <th>LIVINGAPARTMENTS_AVG</th>\n",
              "      <td>NaN</td>\n",
              "      <td>NaN</td>\n",
              "      <td>0.1189</td>\n",
              "      <td>NaN</td>\n",
              "      <td>NaN</td>\n",
              "    </tr>\n",
              "    <tr>\n",
              "      <th>LIVINGAREA_AVG</th>\n",
              "      <td>0.0435</td>\n",
              "      <td>NaN</td>\n",
              "      <td>0.15</td>\n",
              "      <td>NaN</td>\n",
              "      <td>NaN</td>\n",
              "    </tr>\n",
              "    <tr>\n",
              "      <th>NONLIVINGAPARTMENTS_AVG</th>\n",
              "      <td>NaN</td>\n",
              "      <td>NaN</td>\n",
              "      <td>0.0019</td>\n",
              "      <td>NaN</td>\n",
              "      <td>NaN</td>\n",
              "    </tr>\n",
              "    <tr>\n",
              "      <th>NONLIVINGAREA_AVG</th>\n",
              "      <td>NaN</td>\n",
              "      <td>NaN</td>\n",
              "      <td>0.0012</td>\n",
              "      <td>NaN</td>\n",
              "      <td>NaN</td>\n",
              "    </tr>\n",
              "    <tr>\n",
              "      <th>APARTMENTS_MODE</th>\n",
              "      <td>0.0725</td>\n",
              "      <td>NaN</td>\n",
              "      <td>0.1481</td>\n",
              "      <td>NaN</td>\n",
              "      <td>NaN</td>\n",
              "    </tr>\n",
              "    <tr>\n",
              "      <th>BASEMENTAREA_MODE</th>\n",
              "      <td>0.0907</td>\n",
              "      <td>NaN</td>\n",
              "      <td>0.1096</td>\n",
              "      <td>NaN</td>\n",
              "      <td>NaN</td>\n",
              "    </tr>\n",
              "    <tr>\n",
              "      <th>YEARS_BEGINEXPLUATATION_MODE</th>\n",
              "      <td>0.9841</td>\n",
              "      <td>NaN</td>\n",
              "      <td>0.9856</td>\n",
              "      <td>NaN</td>\n",
              "      <td>NaN</td>\n",
              "    </tr>\n",
              "    <tr>\n",
              "      <th>YEARS_BUILD_MODE</th>\n",
              "      <td>NaN</td>\n",
              "      <td>NaN</td>\n",
              "      <td>0.8105</td>\n",
              "      <td>NaN</td>\n",
              "      <td>NaN</td>\n",
              "    </tr>\n",
              "    <tr>\n",
              "      <th>COMMONAREA_MODE</th>\n",
              "      <td>NaN</td>\n",
              "      <td>NaN</td>\n",
              "      <td>0.0</td>\n",
              "      <td>NaN</td>\n",
              "      <td>NaN</td>\n",
              "    </tr>\n",
              "    <tr>\n",
              "      <th>ELEVATORS_MODE</th>\n",
              "      <td>NaN</td>\n",
              "      <td>NaN</td>\n",
              "      <td>0.1611</td>\n",
              "      <td>NaN</td>\n",
              "      <td>NaN</td>\n",
              "    </tr>\n",
              "    <tr>\n",
              "      <th>ENTRANCES_MODE</th>\n",
              "      <td>0.1724</td>\n",
              "      <td>NaN</td>\n",
              "      <td>0.1379</td>\n",
              "      <td>NaN</td>\n",
              "      <td>NaN</td>\n",
              "    </tr>\n",
              "    <tr>\n",
              "      <th>FLOORSMAX_MODE</th>\n",
              "      <td>0.1667</td>\n",
              "      <td>NaN</td>\n",
              "      <td>0.3333</td>\n",
              "      <td>NaN</td>\n",
              "      <td>NaN</td>\n",
              "    </tr>\n",
              "    <tr>\n",
              "      <th>FLOORSMIN_MODE</th>\n",
              "      <td>0.0417</td>\n",
              "      <td>NaN</td>\n",
              "      <td>0.0417</td>\n",
              "      <td>NaN</td>\n",
              "      <td>NaN</td>\n",
              "    </tr>\n",
              "    <tr>\n",
              "      <th>LANDAREA_MODE</th>\n",
              "      <td>0.0897</td>\n",
              "      <td>NaN</td>\n",
              "      <td>0.0</td>\n",
              "      <td>NaN</td>\n",
              "      <td>NaN</td>\n",
              "    </tr>\n",
              "    <tr>\n",
              "      <th>LIVINGAPARTMENTS_MODE</th>\n",
              "      <td>NaN</td>\n",
              "      <td>NaN</td>\n",
              "      <td>0.1286</td>\n",
              "      <td>NaN</td>\n",
              "      <td>NaN</td>\n",
              "    </tr>\n",
              "    <tr>\n",
              "      <th>LIVINGAREA_MODE</th>\n",
              "      <td>0.0453</td>\n",
              "      <td>NaN</td>\n",
              "      <td>0.1544</td>\n",
              "      <td>NaN</td>\n",
              "      <td>NaN</td>\n",
              "    </tr>\n",
              "    <tr>\n",
              "      <th>NONLIVINGAPARTMENTS_MODE</th>\n",
              "      <td>NaN</td>\n",
              "      <td>NaN</td>\n",
              "      <td>0.0</td>\n",
              "      <td>NaN</td>\n",
              "      <td>NaN</td>\n",
              "    </tr>\n",
              "    <tr>\n",
              "      <th>NONLIVINGAREA_MODE</th>\n",
              "      <td>NaN</td>\n",
              "      <td>NaN</td>\n",
              "      <td>0.0</td>\n",
              "      <td>NaN</td>\n",
              "      <td>NaN</td>\n",
              "    </tr>\n",
              "    <tr>\n",
              "      <th>APARTMENTS_MEDI</th>\n",
              "      <td>0.0718</td>\n",
              "      <td>NaN</td>\n",
              "      <td>0.1478</td>\n",
              "      <td>NaN</td>\n",
              "      <td>NaN</td>\n",
              "    </tr>\n",
              "    <tr>\n",
              "      <th>BASEMENTAREA_MEDI</th>\n",
              "      <td>0.0874</td>\n",
              "      <td>NaN</td>\n",
              "      <td>0.106</td>\n",
              "      <td>NaN</td>\n",
              "      <td>NaN</td>\n",
              "    </tr>\n",
              "    <tr>\n",
              "      <th>YEARS_BEGINEXPLUATATION_MEDI</th>\n",
              "      <td>0.9841</td>\n",
              "      <td>NaN</td>\n",
              "      <td>0.9861</td>\n",
              "      <td>NaN</td>\n",
              "      <td>NaN</td>\n",
              "    </tr>\n",
              "    <tr>\n",
              "      <th>YEARS_BUILD_MEDI</th>\n",
              "      <td>NaN</td>\n",
              "      <td>NaN</td>\n",
              "      <td>0.8121</td>\n",
              "      <td>NaN</td>\n",
              "      <td>NaN</td>\n",
              "    </tr>\n",
              "    <tr>\n",
              "      <th>COMMONAREA_MEDI</th>\n",
              "      <td>NaN</td>\n",
              "      <td>NaN</td>\n",
              "      <td>0.0122</td>\n",
              "      <td>NaN</td>\n",
              "      <td>NaN</td>\n",
              "    </tr>\n",
              "    <tr>\n",
              "      <th>ELEVATORS_MEDI</th>\n",
              "      <td>NaN</td>\n",
              "      <td>NaN</td>\n",
              "      <td>0.16</td>\n",
              "      <td>NaN</td>\n",
              "      <td>NaN</td>\n",
              "    </tr>\n",
              "    <tr>\n",
              "      <th>ENTRANCES_MEDI</th>\n",
              "      <td>0.1724</td>\n",
              "      <td>NaN</td>\n",
              "      <td>0.1379</td>\n",
              "      <td>NaN</td>\n",
              "      <td>NaN</td>\n",
              "    </tr>\n",
              "    <tr>\n",
              "      <th>FLOORSMAX_MEDI</th>\n",
              "      <td>0.1667</td>\n",
              "      <td>NaN</td>\n",
              "      <td>0.3333</td>\n",
              "      <td>NaN</td>\n",
              "      <td>NaN</td>\n",
              "    </tr>\n",
              "    <tr>\n",
              "      <th>FLOORSMIN_MEDI</th>\n",
              "      <td>0.0417</td>\n",
              "      <td>NaN</td>\n",
              "      <td>0.2083</td>\n",
              "      <td>NaN</td>\n",
              "      <td>NaN</td>\n",
              "    </tr>\n",
              "    <tr>\n",
              "      <th>LANDAREA_MEDI</th>\n",
              "      <td>0.0892</td>\n",
              "      <td>NaN</td>\n",
              "      <td>0.0</td>\n",
              "      <td>NaN</td>\n",
              "      <td>NaN</td>\n",
              "    </tr>\n",
              "    <tr>\n",
              "      <th>LIVINGAPARTMENTS_MEDI</th>\n",
              "      <td>NaN</td>\n",
              "      <td>NaN</td>\n",
              "      <td>0.121</td>\n",
              "      <td>NaN</td>\n",
              "      <td>NaN</td>\n",
              "    </tr>\n",
              "    <tr>\n",
              "      <th>LIVINGAREA_MEDI</th>\n",
              "      <td>0.0443</td>\n",
              "      <td>NaN</td>\n",
              "      <td>0.1527</td>\n",
              "      <td>NaN</td>\n",
              "      <td>NaN</td>\n",
              "    </tr>\n",
              "    <tr>\n",
              "      <th>NONLIVINGAPARTMENTS_MEDI</th>\n",
              "      <td>NaN</td>\n",
              "      <td>NaN</td>\n",
              "      <td>0.0019</td>\n",
              "      <td>NaN</td>\n",
              "      <td>NaN</td>\n",
              "    </tr>\n",
              "    <tr>\n",
              "      <th>NONLIVINGAREA_MEDI</th>\n",
              "      <td>NaN</td>\n",
              "      <td>NaN</td>\n",
              "      <td>0.0013</td>\n",
              "      <td>NaN</td>\n",
              "      <td>NaN</td>\n",
              "    </tr>\n",
              "    <tr>\n",
              "      <th>FONDKAPREMONT_MODE</th>\n",
              "      <td>reg oper account</td>\n",
              "      <td>NaN</td>\n",
              "      <td>reg oper account</td>\n",
              "      <td>NaN</td>\n",
              "      <td>NaN</td>\n",
              "    </tr>\n",
              "    <tr>\n",
              "      <th>HOUSETYPE_MODE</th>\n",
              "      <td>block of flats</td>\n",
              "      <td>NaN</td>\n",
              "      <td>block of flats</td>\n",
              "      <td>NaN</td>\n",
              "      <td>NaN</td>\n",
              "    </tr>\n",
              "    <tr>\n",
              "      <th>TOTALAREA_MODE</th>\n",
              "      <td>0.0588</td>\n",
              "      <td>NaN</td>\n",
              "      <td>0.1327</td>\n",
              "      <td>NaN</td>\n",
              "      <td>NaN</td>\n",
              "    </tr>\n",
              "    <tr>\n",
              "      <th>WALLSMATERIAL_MODE</th>\n",
              "      <td>Panel</td>\n",
              "      <td>NaN</td>\n",
              "      <td>Panel</td>\n",
              "      <td>NaN</td>\n",
              "      <td>NaN</td>\n",
              "    </tr>\n",
              "    <tr>\n",
              "      <th>EMERGENCYSTATE_MODE</th>\n",
              "      <td>No</td>\n",
              "      <td>NaN</td>\n",
              "      <td>No</td>\n",
              "      <td>NaN</td>\n",
              "      <td>NaN</td>\n",
              "    </tr>\n",
              "    <tr>\n",
              "      <th>OBS_30_CNT_SOCIAL_CIRCLE</th>\n",
              "      <td>0.0</td>\n",
              "      <td>2.0</td>\n",
              "      <td>0.0</td>\n",
              "      <td>1.0</td>\n",
              "      <td>0.0</td>\n",
              "    </tr>\n",
              "    <tr>\n",
              "      <th>DEF_30_CNT_SOCIAL_CIRCLE</th>\n",
              "      <td>0.0</td>\n",
              "      <td>0.0</td>\n",
              "      <td>0.0</td>\n",
              "      <td>0.0</td>\n",
              "      <td>0.0</td>\n",
              "    </tr>\n",
              "    <tr>\n",
              "      <th>OBS_60_CNT_SOCIAL_CIRCLE</th>\n",
              "      <td>0.0</td>\n",
              "      <td>2.0</td>\n",
              "      <td>0.0</td>\n",
              "      <td>1.0</td>\n",
              "      <td>0.0</td>\n",
              "    </tr>\n",
              "    <tr>\n",
              "      <th>DEF_60_CNT_SOCIAL_CIRCLE</th>\n",
              "      <td>0.0</td>\n",
              "      <td>0.0</td>\n",
              "      <td>0.0</td>\n",
              "      <td>0.0</td>\n",
              "      <td>0.0</td>\n",
              "    </tr>\n",
              "    <tr>\n",
              "      <th>DAYS_LAST_PHONE_CHANGE</th>\n",
              "      <td>-234.0</td>\n",
              "      <td>-1896.0</td>\n",
              "      <td>-2504.0</td>\n",
              "      <td>0.0</td>\n",
              "      <td>-1492.0</td>\n",
              "    </tr>\n",
              "    <tr>\n",
              "      <th>FLAG_DOCUMENT_2</th>\n",
              "      <td>0</td>\n",
              "      <td>0</td>\n",
              "      <td>0</td>\n",
              "      <td>0</td>\n",
              "      <td>0</td>\n",
              "    </tr>\n",
              "    <tr>\n",
              "      <th>FLAG_DOCUMENT_3</th>\n",
              "      <td>1</td>\n",
              "      <td>1</td>\n",
              "      <td>1</td>\n",
              "      <td>1</td>\n",
              "      <td>1</td>\n",
              "    </tr>\n",
              "    <tr>\n",
              "      <th>FLAG_DOCUMENT_4</th>\n",
              "      <td>0</td>\n",
              "      <td>0</td>\n",
              "      <td>0</td>\n",
              "      <td>0</td>\n",
              "      <td>0</td>\n",
              "    </tr>\n",
              "    <tr>\n",
              "      <th>FLAG_DOCUMENT_5</th>\n",
              "      <td>0</td>\n",
              "      <td>0</td>\n",
              "      <td>0</td>\n",
              "      <td>0</td>\n",
              "      <td>0</td>\n",
              "    </tr>\n",
              "    <tr>\n",
              "      <th>FLAG_DOCUMENT_6</th>\n",
              "      <td>0</td>\n",
              "      <td>0</td>\n",
              "      <td>0</td>\n",
              "      <td>0</td>\n",
              "      <td>0</td>\n",
              "    </tr>\n",
              "    <tr>\n",
              "      <th>FLAG_DOCUMENT_7</th>\n",
              "      <td>0</td>\n",
              "      <td>0</td>\n",
              "      <td>0</td>\n",
              "      <td>0</td>\n",
              "      <td>0</td>\n",
              "    </tr>\n",
              "    <tr>\n",
              "      <th>FLAG_DOCUMENT_8</th>\n",
              "      <td>0</td>\n",
              "      <td>0</td>\n",
              "      <td>0</td>\n",
              "      <td>0</td>\n",
              "      <td>0</td>\n",
              "    </tr>\n",
              "    <tr>\n",
              "      <th>FLAG_DOCUMENT_9</th>\n",
              "      <td>0</td>\n",
              "      <td>0</td>\n",
              "      <td>0</td>\n",
              "      <td>0</td>\n",
              "      <td>0</td>\n",
              "    </tr>\n",
              "    <tr>\n",
              "      <th>FLAG_DOCUMENT_10</th>\n",
              "      <td>0</td>\n",
              "      <td>0</td>\n",
              "      <td>0</td>\n",
              "      <td>0</td>\n",
              "      <td>0</td>\n",
              "    </tr>\n",
              "    <tr>\n",
              "      <th>FLAG_DOCUMENT_11</th>\n",
              "      <td>0</td>\n",
              "      <td>0</td>\n",
              "      <td>0</td>\n",
              "      <td>0</td>\n",
              "      <td>0</td>\n",
              "    </tr>\n",
              "    <tr>\n",
              "      <th>FLAG_DOCUMENT_12</th>\n",
              "      <td>0</td>\n",
              "      <td>0</td>\n",
              "      <td>0</td>\n",
              "      <td>0</td>\n",
              "      <td>0</td>\n",
              "    </tr>\n",
              "    <tr>\n",
              "      <th>FLAG_DOCUMENT_13</th>\n",
              "      <td>0</td>\n",
              "      <td>0</td>\n",
              "      <td>0</td>\n",
              "      <td>0</td>\n",
              "      <td>0</td>\n",
              "    </tr>\n",
              "    <tr>\n",
              "      <th>FLAG_DOCUMENT_14</th>\n",
              "      <td>0</td>\n",
              "      <td>0</td>\n",
              "      <td>0</td>\n",
              "      <td>0</td>\n",
              "      <td>0</td>\n",
              "    </tr>\n",
              "    <tr>\n",
              "      <th>FLAG_DOCUMENT_15</th>\n",
              "      <td>0</td>\n",
              "      <td>0</td>\n",
              "      <td>0</td>\n",
              "      <td>0</td>\n",
              "      <td>0</td>\n",
              "    </tr>\n",
              "    <tr>\n",
              "      <th>FLAG_DOCUMENT_16</th>\n",
              "      <td>0</td>\n",
              "      <td>0</td>\n",
              "      <td>0</td>\n",
              "      <td>0</td>\n",
              "      <td>0</td>\n",
              "    </tr>\n",
              "    <tr>\n",
              "      <th>FLAG_DOCUMENT_17</th>\n",
              "      <td>0</td>\n",
              "      <td>0</td>\n",
              "      <td>0</td>\n",
              "      <td>0</td>\n",
              "      <td>0</td>\n",
              "    </tr>\n",
              "    <tr>\n",
              "      <th>FLAG_DOCUMENT_18</th>\n",
              "      <td>0</td>\n",
              "      <td>0</td>\n",
              "      <td>0</td>\n",
              "      <td>0</td>\n",
              "      <td>0</td>\n",
              "    </tr>\n",
              "    <tr>\n",
              "      <th>FLAG_DOCUMENT_19</th>\n",
              "      <td>0</td>\n",
              "      <td>0</td>\n",
              "      <td>0</td>\n",
              "      <td>0</td>\n",
              "      <td>0</td>\n",
              "    </tr>\n",
              "    <tr>\n",
              "      <th>FLAG_DOCUMENT_20</th>\n",
              "      <td>0</td>\n",
              "      <td>0</td>\n",
              "      <td>0</td>\n",
              "      <td>0</td>\n",
              "      <td>0</td>\n",
              "    </tr>\n",
              "    <tr>\n",
              "      <th>FLAG_DOCUMENT_21</th>\n",
              "      <td>0</td>\n",
              "      <td>0</td>\n",
              "      <td>0</td>\n",
              "      <td>0</td>\n",
              "      <td>0</td>\n",
              "    </tr>\n",
              "    <tr>\n",
              "      <th>AMT_REQ_CREDIT_BUREAU_HOUR</th>\n",
              "      <td>0.0</td>\n",
              "      <td>0.0</td>\n",
              "      <td>0.0</td>\n",
              "      <td>0.0</td>\n",
              "      <td>0.0</td>\n",
              "    </tr>\n",
              "    <tr>\n",
              "      <th>AMT_REQ_CREDIT_BUREAU_DAY</th>\n",
              "      <td>0.0</td>\n",
              "      <td>0.0</td>\n",
              "      <td>0.0</td>\n",
              "      <td>0.0</td>\n",
              "      <td>0.0</td>\n",
              "    </tr>\n",
              "    <tr>\n",
              "      <th>AMT_REQ_CREDIT_BUREAU_WEEK</th>\n",
              "      <td>0.0</td>\n",
              "      <td>0.0</td>\n",
              "      <td>0.0</td>\n",
              "      <td>0.0</td>\n",
              "      <td>0.0</td>\n",
              "    </tr>\n",
              "    <tr>\n",
              "      <th>AMT_REQ_CREDIT_BUREAU_MON</th>\n",
              "      <td>0.0</td>\n",
              "      <td>0.0</td>\n",
              "      <td>0.0</td>\n",
              "      <td>0.0</td>\n",
              "      <td>0.0</td>\n",
              "    </tr>\n",
              "    <tr>\n",
              "      <th>AMT_REQ_CREDIT_BUREAU_QRT</th>\n",
              "      <td>0.0</td>\n",
              "      <td>1.0</td>\n",
              "      <td>0.0</td>\n",
              "      <td>1.0</td>\n",
              "      <td>0.0</td>\n",
              "    </tr>\n",
              "    <tr>\n",
              "      <th>AMT_REQ_CREDIT_BUREAU_YEAR</th>\n",
              "      <td>0.0</td>\n",
              "      <td>5.0</td>\n",
              "      <td>1.0</td>\n",
              "      <td>1.0</td>\n",
              "      <td>7.0</td>\n",
              "    </tr>\n",
              "  </tbody>\n",
              "</table>\n",
              "</div>\n",
              "      <button class=\"colab-df-convert\" onclick=\"convertToInteractive('df-deab8eec-cc5f-4858-b9b3-972d45b252b2')\"\n",
              "              title=\"Convert this dataframe to an interactive table.\"\n",
              "              style=\"display:none;\">\n",
              "        \n",
              "  <svg xmlns=\"http://www.w3.org/2000/svg\" height=\"24px\"viewBox=\"0 0 24 24\"\n",
              "       width=\"24px\">\n",
              "    <path d=\"M0 0h24v24H0V0z\" fill=\"none\"/>\n",
              "    <path d=\"M18.56 5.44l.94 2.06.94-2.06 2.06-.94-2.06-.94-.94-2.06-.94 2.06-2.06.94zm-11 1L8.5 8.5l.94-2.06 2.06-.94-2.06-.94L8.5 2.5l-.94 2.06-2.06.94zm10 10l.94 2.06.94-2.06 2.06-.94-2.06-.94-.94-2.06-.94 2.06-2.06.94z\"/><path d=\"M17.41 7.96l-1.37-1.37c-.4-.4-.92-.59-1.43-.59-.52 0-1.04.2-1.43.59L10.3 9.45l-7.72 7.72c-.78.78-.78 2.05 0 2.83L4 21.41c.39.39.9.59 1.41.59.51 0 1.02-.2 1.41-.59l7.78-7.78 2.81-2.81c.8-.78.8-2.07 0-2.86zM5.41 20L4 18.59l7.72-7.72 1.47 1.35L5.41 20z\"/>\n",
              "  </svg>\n",
              "      </button>\n",
              "      \n",
              "  <style>\n",
              "    .colab-df-container {\n",
              "      display:flex;\n",
              "      flex-wrap:wrap;\n",
              "      gap: 12px;\n",
              "    }\n",
              "\n",
              "    .colab-df-convert {\n",
              "      background-color: #E8F0FE;\n",
              "      border: none;\n",
              "      border-radius: 50%;\n",
              "      cursor: pointer;\n",
              "      display: none;\n",
              "      fill: #1967D2;\n",
              "      height: 32px;\n",
              "      padding: 0 0 0 0;\n",
              "      width: 32px;\n",
              "    }\n",
              "\n",
              "    .colab-df-convert:hover {\n",
              "      background-color: #E2EBFA;\n",
              "      box-shadow: 0px 1px 2px rgba(60, 64, 67, 0.3), 0px 1px 3px 1px rgba(60, 64, 67, 0.15);\n",
              "      fill: #174EA6;\n",
              "    }\n",
              "\n",
              "    [theme=dark] .colab-df-convert {\n",
              "      background-color: #3B4455;\n",
              "      fill: #D2E3FC;\n",
              "    }\n",
              "\n",
              "    [theme=dark] .colab-df-convert:hover {\n",
              "      background-color: #434B5C;\n",
              "      box-shadow: 0px 1px 3px 1px rgba(0, 0, 0, 0.15);\n",
              "      filter: drop-shadow(0px 1px 2px rgba(0, 0, 0, 0.3));\n",
              "      fill: #FFFFFF;\n",
              "    }\n",
              "  </style>\n",
              "\n",
              "      <script>\n",
              "        const buttonEl =\n",
              "          document.querySelector('#df-deab8eec-cc5f-4858-b9b3-972d45b252b2 button.colab-df-convert');\n",
              "        buttonEl.style.display =\n",
              "          google.colab.kernel.accessAllowed ? 'block' : 'none';\n",
              "\n",
              "        async function convertToInteractive(key) {\n",
              "          const element = document.querySelector('#df-deab8eec-cc5f-4858-b9b3-972d45b252b2');\n",
              "          const dataTable =\n",
              "            await google.colab.kernel.invokeFunction('convertToInteractive',\n",
              "                                                     [key], {});\n",
              "          if (!dataTable) return;\n",
              "\n",
              "          const docLinkHtml = 'Like what you see? Visit the ' +\n",
              "            '<a target=\"_blank\" href=https://colab.research.google.com/notebooks/data_table.ipynb>data table notebook</a>'\n",
              "            + ' to learn more about interactive tables.';\n",
              "          element.innerHTML = '';\n",
              "          dataTable['output_type'] = 'display_data';\n",
              "          await google.colab.output.renderOutput(dataTable, element);\n",
              "          const docLink = document.createElement('div');\n",
              "          docLink.innerHTML = docLinkHtml;\n",
              "          element.appendChild(docLink);\n",
              "        }\n",
              "      </script>\n",
              "    </div>\n",
              "  </div>\n",
              "  "
            ]
          },
          "metadata": {},
          "execution_count": 8
        }
      ],
      "source": [
        "### Complete in this cell: show first 5 records in a transposed table\n",
        "app_train.head(5).T"
      ]
    },
    {
      "cell_type": "markdown",
      "id": "59da8f46-e503-4b67-8e73-ac61c394824c",
      "metadata": {
        "id": "59da8f46-e503-4b67-8e73-ac61c394824c"
      },
      "source": [
        "1.5. Show the distribution of the target variable values: print the total value count and the percentage of each value, plot this relationship."
      ]
    },
    {
      "cell_type": "code",
      "execution_count": null,
      "id": "8855d370-c825-415b-9dd0-9dbdd576fada",
      "metadata": {
        "id": "8855d370-c825-415b-9dd0-9dbdd576fada",
        "colab": {
          "base_uri": "https://localhost:8080/"
        },
        "outputId": "e4e9de31-5a1c-49c9-8a8c-c27bcd267449"
      },
      "outputs": [
        {
          "output_type": "execute_result",
          "data": {
            "text/plain": [
              "0    197882\n",
              "1     17375\n",
              "Name: TARGET, dtype: int64"
            ]
          },
          "metadata": {},
          "execution_count": 9
        }
      ],
      "source": [
        "### Complete in this cell: show distribution of target variable\n",
        "\n",
        "# Prints the total value counts of the target variable\n",
        "app_train['TARGET'].value_counts()"
      ]
    },
    {
      "cell_type": "code",
      "source": [
        "# Plots the distribution of the target variable values\n",
        "app_train['TARGET'].astype(int).plot.hist();"
      ],
      "metadata": {
        "colab": {
          "base_uri": "https://localhost:8080/",
          "height": 265
        },
        "id": "ZkFP2N4ebBDe",
        "outputId": "dd9e3e6a-b1ab-48c7-cedc-b7d4c25b6dbe"
      },
      "id": "ZkFP2N4ebBDe",
      "execution_count": null,
      "outputs": [
        {
          "output_type": "display_data",
          "data": {
            "text/plain": [
              "<Figure size 432x288 with 1 Axes>"
            ],
            "image/png": "[encoded data removed]"
          },
          "metadata": {
            "needs_background": "light"
          }
        }
      ]
    },
    {
      "cell_type": "markdown",
      "source": [
        "The target presents a Class Imbalance Problem which is a disproportionate number of class instances. In other words, the total number of a class of data (1: client with payment difficulties) is far less than the total number of another class of data (0: all other cases)."
      ],
      "metadata": {
        "id": "iDHAn74LbX9Z"
      },
      "id": "iDHAn74LbX9Z"
    },
    {
      "cell_type": "markdown",
      "id": "cc7b5a63-da31-4a61-9e91-9708dc7633a7",
      "metadata": {
        "id": "cc7b5a63-da31-4a61-9e91-9708dc7633a7"
      },
      "source": [
        "1.6. Show the number of columns of each data type.\n",
        "\n",
        "Just for giving you an idea, the output should look like this (not exactly the same numbers):\n",
        "\n",
        "```python\n",
        "float64    45\n",
        "int64      32\n",
        "object     10\n",
        "```"
      ]
    },
    {
      "cell_type": "code",
      "execution_count": null,
      "id": "b74878dd-cc48-4e69-bc35-e90457d54b3a",
      "metadata": {
        "id": "b74878dd-cc48-4e69-bc35-e90457d54b3a",
        "colab": {
          "base_uri": "https://localhost:8080/"
        },
        "outputId": "78d25e2f-33d3-4bc3-af47-f161c1e12d06"
      },
      "outputs": [
        {
          "output_type": "execute_result",
          "data": {
            "text/plain": [
              "float64    65\n",
              "int64      42\n",
              "object     16\n",
              "dtype: int64"
            ]
          },
          "metadata": {},
          "execution_count": 11
        }
      ],
      "source": [
        "### Complete in this cell: show number of columns per data type\n",
        "\n",
        "# Column data type number\n",
        "app_train.dtypes.value_counts()"
      ]
    },
    {
      "cell_type": "markdown",
      "id": "c0a8799e-d32a-4239-a85d-6ff29ab4682f",
      "metadata": {
        "id": "c0a8799e-d32a-4239-a85d-6ff29ab4682f"
      },
      "source": [
        "1.7. For categorical variables, show the number of distinct values in each column (number of labels).\n",
        "\n",
        "Just for giving you an idea, the output should look like this (not exactly the same numbers):\n",
        "\n",
        "```python\n",
        "NAME_CONTRACT_TYPE             5\n",
        "CODE_GENDER                    2\n",
        "FLAG_OWN_CAR                   1\n",
        "FLAG_OWN_REALTY                1\n",
        "...\n",
        "```"
      ]
    },
    {
      "cell_type": "code",
      "execution_count": null,
      "id": "8b294976-dc0d-44bd-9bf6-29ba1f6a2e2b",
      "metadata": {
        "id": "8b294976-dc0d-44bd-9bf6-29ba1f6a2e2b",
        "colab": {
          "base_uri": "https://localhost:8080/"
        },
        "outputId": "9a341f8f-50da-47cf-87f4-fb713d7cd780"
      },
      "outputs": [
        {
          "output_type": "execute_result",
          "data": {
            "text/plain": [
              "NAME_CONTRACT_TYPE             2\n",
              "CODE_GENDER                    3\n",
              "FLAG_OWN_CAR                   2\n",
              "FLAG_OWN_REALTY                2\n",
              "NAME_TYPE_SUITE                7\n",
              "NAME_INCOME_TYPE               8\n",
              "NAME_EDUCATION_TYPE            5\n",
              "NAME_FAMILY_STATUS             6\n",
              "NAME_HOUSING_TYPE              6\n",
              "OCCUPATION_TYPE               18\n",
              "WEEKDAY_APPR_PROCESS_START     7\n",
              "ORGANIZATION_TYPE             58\n",
              "FONDKAPREMONT_MODE             4\n",
              "HOUSETYPE_MODE                 3\n",
              "WALLSMATERIAL_MODE             7\n",
              "EMERGENCYSTATE_MODE            2\n",
              "dtype: int64"
            ]
          },
          "metadata": {},
          "execution_count": 12
        }
      ],
      "source": [
        "### Complete in this cell: show number of unique values per categorical column\n",
        "\n",
        "# Categorical column unique values\n",
        "app_train.select_dtypes('object').apply(pd.Series.nunique, axis = 0)"
      ]
    },
    {
      "cell_type": "code",
      "source": [
        "app_train['CODE_GENDER'].value_counts()"
      ],
      "metadata": {
        "colab": {
          "base_uri": "https://localhost:8080/"
        },
        "id": "vps9HuZ4syvU",
        "outputId": "a847cd7b-a23a-4559-c136-520e78e7506b"
      },
      "id": "vps9HuZ4syvU",
      "execution_count": null,
      "outputs": [
        {
          "output_type": "execute_result",
          "data": {
            "text/plain": [
              "F      141696\n",
              "M       73558\n",
              "XNA         3\n",
              "Name: CODE_GENDER, dtype: int64"
            ]
          },
          "metadata": {},
          "execution_count": 13
        }
      ]
    },
    {
      "cell_type": "code",
      "source": [
        "app_train['CODE_GENDER'] = np.where(app_train['CODE_GENDER'] == 'XNA', 'M', app_train['CODE_GENDER'])\n",
        "app_train['CODE_GENDER'].value_counts()"
      ],
      "metadata": {
        "colab": {
          "base_uri": "https://localhost:8080/"
        },
        "id": "CF5UtKvVtdGG",
        "outputId": "2a9c991b-4466-457f-cb1c-05fd8fa22196"
      },
      "id": "CF5UtKvVtdGG",
      "execution_count": null,
      "outputs": [
        {
          "output_type": "execute_result",
          "data": {
            "text/plain": [
              "F    141696\n",
              "M     73561\n",
              "Name: CODE_GENDER, dtype: int64"
            ]
          },
          "metadata": {},
          "execution_count": 14
        }
      ]
    },
    {
      "cell_type": "code",
      "source": [
        "app_train['EMERGENCYSTATE_MODE'].value_counts()"
      ],
      "metadata": {
        "colab": {
          "base_uri": "https://localhost:8080/"
        },
        "id": "ssMvWxvdQ37B",
        "outputId": "c521821b-ab45-41eb-bc49-26df407d3bec"
      },
      "id": "ssMvWxvdQ37B",
      "execution_count": null,
      "outputs": [
        {
          "output_type": "execute_result",
          "data": {
            "text/plain": [
              "No     111660\n",
              "Yes      1606\n",
              "Name: EMERGENCYSTATE_MODE, dtype: int64"
            ]
          },
          "metadata": {},
          "execution_count": 15
        }
      ]
    },
    {
      "cell_type": "markdown",
      "id": "967d1938-e27d-4fbd-9bdc-f26364f5fdfd",
      "metadata": {
        "id": "967d1938-e27d-4fbd-9bdc-f26364f5fdfd"
      },
      "source": [
        "1.8. Analyzing missing data: show the percentage of missing data for each column ordered by percentage descending (show only the 20 columns with higher missing pct)\n",
        "\n",
        "Just for giving you an idea, the output should look like this (not exactly the same numbers and columns names):\n",
        "\n",
        "```python\n",
        "                   Total   Percent\n",
        "COMMONAREA_AVG    121000      85.2\n",
        "COMMONAREA_MODE   121000      76.6\n",
        "COMMONAREA_MEDI   121000      62.9\n",
        "...\n",
        "```"
      ]
    },
    {
      "cell_type": "code",
      "execution_count": null,
      "id": "0b65aa7e-d8a2-44b0-9803-ca5277471470",
      "metadata": {
        "id": "0b65aa7e-d8a2-44b0-9803-ca5277471470",
        "colab": {
          "base_uri": "https://localhost:8080/",
          "height": 713
        },
        "outputId": "106b4b03-4c23-44f1-cc9a-9b8c11a0ccbb"
      },
      "outputs": [
        {
          "output_type": "stream",
          "name": "stdout",
          "text": [
            "Your selected dataframe has 123 columns.\n",
            "There are 66 columns that have missing values.\n"
          ]
        },
        {
          "output_type": "execute_result",
          "data": {
            "text/plain": [
              "                          Total Missing Values  Percent (%) of Total Values\n",
              "COMMONAREA_MEDI                         150393                         69.9\n",
              "COMMONAREA_AVG                          150393                         69.9\n",
              "COMMONAREA_MODE                         150393                         69.9\n",
              "NONLIVINGAPARTMENTS_MEDI                149483                         69.4\n",
              "NONLIVINGAPARTMENTS_MODE                149483                         69.4\n",
              "NONLIVINGAPARTMENTS_AVG                 149483                         69.4\n",
              "FONDKAPREMONT_MODE                      147217                         68.4\n",
              "LIVINGAPARTMENTS_MODE                   147144                         68.4\n",
              "LIVINGAPARTMENTS_MEDI                   147144                         68.4\n",
              "LIVINGAPARTMENTS_AVG                    147144                         68.4\n",
              "FLOORSMIN_MODE                          146070                         67.9\n",
              "FLOORSMIN_MEDI                          146070                         67.9\n",
              "FLOORSMIN_AVG                           146070                         67.9\n",
              "YEARS_BUILD_MODE                        143149                         66.5\n",
              "YEARS_BUILD_MEDI                        143149                         66.5\n",
              "YEARS_BUILD_AVG                         143149                         66.5\n",
              "OWN_CAR_AGE                             142017                         66.0\n",
              "LANDAREA_AVG                            127983                         59.5\n",
              "LANDAREA_MEDI                           127983                         59.5\n",
              "LANDAREA_MODE                           127983                         59.5"
            ],
            "text/html": [
              "\n",
              "  <div id=\"df-6eab8b01-daa6-4a5d-9bb3-7f449a195000\">\n",
              "    <div class=\"colab-df-container\">\n",
              "      <div>\n",
              "<style scoped>\n",
              "    .dataframe tbody tr th:only-of-type {\n",
              "        vertical-align: middle;\n",
              "    }\n",
              "\n",
              "    .dataframe tbody tr th {\n",
              "        vertical-align: top;\n",
              "    }\n",
              "\n",
              "    .dataframe thead th {\n",
              "        text-align: right;\n",
              "    }\n",
              "</style>\n",
              "<table border=\"1\" class=\"dataframe\">\n",
              "  <thead>\n",
              "    <tr style=\"text-align: right;\">\n",
              "      <th></th>\n",
              "      <th>Total Missing Values</th>\n",
              "      <th>Percent (%) of Total Values</th>\n",
              "    </tr>\n",
              "  </thead>\n",
              "  <tbody>\n",
              "    <tr>\n",
              "      <th>COMMONAREA_MEDI</th>\n",
              "      <td>150393</td>\n",
              "      <td>69.9</td>\n",
              "    </tr>\n",
              "    <tr>\n",
              "      <th>COMMONAREA_AVG</th>\n",
              "      <td>150393</td>\n",
              "      <td>69.9</td>\n",
              "    </tr>\n",
              "    <tr>\n",
              "      <th>COMMONAREA_MODE</th>\n",
              "      <td>150393</td>\n",
              "      <td>69.9</td>\n",
              "    </tr>\n",
              "    <tr>\n",
              "      <th>NONLIVINGAPARTMENTS_MEDI</th>\n",
              "      <td>149483</td>\n",
              "      <td>69.4</td>\n",
              "    </tr>\n",
              "    <tr>\n",
              "      <th>NONLIVINGAPARTMENTS_MODE</th>\n",
              "      <td>149483</td>\n",
              "      <td>69.4</td>\n",
              "    </tr>\n",
              "    <tr>\n",
              "      <th>NONLIVINGAPARTMENTS_AVG</th>\n",
              "      <td>149483</td>\n",
              "      <td>69.4</td>\n",
              "    </tr>\n",
              "    <tr>\n",
              "      <th>FONDKAPREMONT_MODE</th>\n",
              "      <td>147217</td>\n",
              "      <td>68.4</td>\n",
              "    </tr>\n",
              "    <tr>\n",
              "      <th>LIVINGAPARTMENTS_MODE</th>\n",
              "      <td>147144</td>\n",
              "      <td>68.4</td>\n",
              "    </tr>\n",
              "    <tr>\n",
              "      <th>LIVINGAPARTMENTS_MEDI</th>\n",
              "      <td>147144</td>\n",
              "      <td>68.4</td>\n",
              "    </tr>\n",
              "    <tr>\n",
              "      <th>LIVINGAPARTMENTS_AVG</th>\n",
              "      <td>147144</td>\n",
              "      <td>68.4</td>\n",
              "    </tr>\n",
              "    <tr>\n",
              "      <th>FLOORSMIN_MODE</th>\n",
              "      <td>146070</td>\n",
              "      <td>67.9</td>\n",
              "    </tr>\n",
              "    <tr>\n",
              "      <th>FLOORSMIN_MEDI</th>\n",
              "      <td>146070</td>\n",
              "      <td>67.9</td>\n",
              "    </tr>\n",
              "    <tr>\n",
              "      <th>FLOORSMIN_AVG</th>\n",
              "      <td>146070</td>\n",
              "      <td>67.9</td>\n",
              "    </tr>\n",
              "    <tr>\n",
              "      <th>YEARS_BUILD_MODE</th>\n",
              "      <td>143149</td>\n",
              "      <td>66.5</td>\n",
              "    </tr>\n",
              "    <tr>\n",
              "      <th>YEARS_BUILD_MEDI</th>\n",
              "      <td>143149</td>\n",
              "      <td>66.5</td>\n",
              "    </tr>\n",
              "    <tr>\n",
              "      <th>YEARS_BUILD_AVG</th>\n",
              "      <td>143149</td>\n",
              "      <td>66.5</td>\n",
              "    </tr>\n",
              "    <tr>\n",
              "      <th>OWN_CAR_AGE</th>\n",
              "      <td>142017</td>\n",
              "      <td>66.0</td>\n",
              "    </tr>\n",
              "    <tr>\n",
              "      <th>LANDAREA_AVG</th>\n",
              "      <td>127983</td>\n",
              "      <td>59.5</td>\n",
              "    </tr>\n",
              "    <tr>\n",
              "      <th>LANDAREA_MEDI</th>\n",
              "      <td>127983</td>\n",
              "      <td>59.5</td>\n",
              "    </tr>\n",
              "    <tr>\n",
              "      <th>LANDAREA_MODE</th>\n",
              "      <td>127983</td>\n",
              "      <td>59.5</td>\n",
              "    </tr>\n",
              "  </tbody>\n",
              "</table>\n",
              "</div>\n",
              "      <button class=\"colab-df-convert\" onclick=\"convertToInteractive('df-6eab8b01-daa6-4a5d-9bb3-7f449a195000')\"\n",
              "              title=\"Convert this dataframe to an interactive table.\"\n",
              "              style=\"display:none;\">\n",
              "        \n",
              "  <svg xmlns=\"http://www.w3.org/2000/svg\" height=\"24px\"viewBox=\"0 0 24 24\"\n",
              "       width=\"24px\">\n",
              "    <path d=\"M0 0h24v24H0V0z\" fill=\"none\"/>\n",
              "    <path d=\"M18.56 5.44l.94 2.06.94-2.06 2.06-.94-2.06-.94-.94-2.06-.94 2.06-2.06.94zm-11 1L8.5 8.5l.94-2.06 2.06-.94-2.06-.94L8.5 2.5l-.94 2.06-2.06.94zm10 10l.94 2.06.94-2.06 2.06-.94-2.06-.94-.94-2.06-.94 2.06-2.06.94z\"/><path d=\"M17.41 7.96l-1.37-1.37c-.4-.4-.92-.59-1.43-.59-.52 0-1.04.2-1.43.59L10.3 9.45l-7.72 7.72c-.78.78-.78 2.05 0 2.83L4 21.41c.39.39.9.59 1.41.59.51 0 1.02-.2 1.41-.59l7.78-7.78 2.81-2.81c.8-.78.8-2.07 0-2.86zM5.41 20L4 18.59l7.72-7.72 1.47 1.35L5.41 20z\"/>\n",
              "  </svg>\n",
              "      </button>\n",
              "      \n",
              "  <style>\n",
              "    .colab-df-container {\n",
              "      display:flex;\n",
              "      flex-wrap:wrap;\n",
              "      gap: 12px;\n",
              "    }\n",
              "\n",
              "    .colab-df-convert {\n",
              "      background-color: #E8F0FE;\n",
              "      border: none;\n",
              "      border-radius: 50%;\n",
              "      cursor: pointer;\n",
              "      display: none;\n",
              "      fill: #1967D2;\n",
              "      height: 32px;\n",
              "      padding: 0 0 0 0;\n",
              "      width: 32px;\n",
              "    }\n",
              "\n",
              "    .colab-df-convert:hover {\n",
              "      background-color: #E2EBFA;\n",
              "      box-shadow: 0px 1px 2px rgba(60, 64, 67, 0.3), 0px 1px 3px 1px rgba(60, 64, 67, 0.15);\n",
              "      fill: #174EA6;\n",
              "    }\n",
              "\n",
              "    [theme=dark] .colab-df-convert {\n",
              "      background-color: #3B4455;\n",
              "      fill: #D2E3FC;\n",
              "    }\n",
              "\n",
              "    [theme=dark] .colab-df-convert:hover {\n",
              "      background-color: #434B5C;\n",
              "      box-shadow: 0px 1px 3px 1px rgba(0, 0, 0, 0.15);\n",
              "      filter: drop-shadow(0px 1px 2px rgba(0, 0, 0, 0.3));\n",
              "      fill: #FFFFFF;\n",
              "    }\n",
              "  </style>\n",
              "\n",
              "      <script>\n",
              "        const buttonEl =\n",
              "          document.querySelector('#df-6eab8b01-daa6-4a5d-9bb3-7f449a195000 button.colab-df-convert');\n",
              "        buttonEl.style.display =\n",
              "          google.colab.kernel.accessAllowed ? 'block' : 'none';\n",
              "\n",
              "        async function convertToInteractive(key) {\n",
              "          const element = document.querySelector('#df-6eab8b01-daa6-4a5d-9bb3-7f449a195000');\n",
              "          const dataTable =\n",
              "            await google.colab.kernel.invokeFunction('convertToInteractive',\n",
              "                                                     [key], {});\n",
              "          if (!dataTable) return;\n",
              "\n",
              "          const docLinkHtml = 'Like what you see? Visit the ' +\n",
              "            '<a target=\"_blank\" href=https://colab.research.google.com/notebooks/data_table.ipynb>data table notebook</a>'\n",
              "            + ' to learn more about interactive tables.';\n",
              "          element.innerHTML = '';\n",
              "          dataTable['output_type'] = 'display_data';\n",
              "          await google.colab.output.renderOutput(dataTable, element);\n",
              "          const docLink = document.createElement('div');\n",
              "          docLink.innerHTML = docLinkHtml;\n",
              "          element.appendChild(docLink);\n",
              "        }\n",
              "      </script>\n",
              "    </div>\n",
              "  </div>\n",
              "  "
            ]
          },
          "metadata": {},
          "execution_count": 16
        }
      ],
      "source": [
        "### Complete in this cell: checking missing data\n",
        "\n",
        "# Function to calculate missing values by column# Funct\n",
        "def missing_values_table(df):\n",
        "        \"\"\"\n",
        "        This function creates a table with all the missing values\n",
        "        \"\"\"\n",
        "\n",
        "        # Total missing values\n",
        "        mis_val = df.isnull().sum()\n",
        "\n",
        "        # Percentage of missing values\n",
        "        mis_val_percent = 100 * df.isnull().sum() / len(df)\n",
        "\n",
        "        # Make a table with the results\n",
        "        mis_val_table = pd.concat([mis_val, mis_val_percent], axis=1)\n",
        "\n",
        "        # Rename the columns\n",
        "        mis_val_table_ren_columns = mis_val_table.rename(\n",
        "        columns = {0 : 'Total Missing Values', 1 : 'Percent (%) of Total Values'})\n",
        "\n",
        "        # Sort the table by percentage of missing descending\n",
        "        mis_val_table_ren_columns = mis_val_table_ren_columns[\n",
        "            mis_val_table_ren_columns.iloc[:,1] != 0].sort_values(\n",
        "                'Percent (%) of Total Values', ascending=False).round(1)\n",
        "\n",
        "        # Print some summary information\n",
        "        print (\"Your selected dataframe has \" + str(df.shape[1]) + \" columns.\\n\"\n",
        "            \"There are \" + str(mis_val_table_ren_columns.shape[0]) +\n",
        "              \" columns that have missing values.\")\n",
        "\n",
        "        # Return the dataframe with missing information\n",
        "        return mis_val_table_ren_columns\n",
        "\n",
        "# Missing values statistics\n",
        "missing_values = missing_values_table(app_train)\n",
        "missing_values.head(20)"
      ]
    },
    {
      "cell_type": "markdown",
      "id": "783c5bb6-6b6d-4e34-bbe2-3a5dc319a4f0",
      "metadata": {
        "id": "783c5bb6-6b6d-4e34-bbe2-3a5dc319a4f0"
      },
      "source": [
        "**Analyzing distribution of variables**"
      ]
    },
    {
      "cell_type": "markdown",
      "id": "9c79d319-bde8-47a4-890d-6694edf221e2",
      "metadata": {
        "id": "9c79d319-bde8-47a4-890d-6694edf221e2"
      },
      "source": [
        "1.9. Show the distribution of credit amounts."
      ]
    },
    {
      "cell_type": "code",
      "source": [
        "### Complete in this cell: distribution of credit amounts\n",
        "sns.histplot(app_train['AMT_CREDIT']);"
      ],
      "metadata": {
        "colab": {
          "base_uri": "https://localhost:8080/",
          "height": 280
        },
        "id": "3h4lG7Lhl9eq",
        "outputId": "fce2ec4a-6bfe-44bd-9c39-cae6dfd64814"
      },
      "id": "3h4lG7Lhl9eq",
      "execution_count": null,
      "outputs": [
        {
          "output_type": "display_data",
          "data": {
            "text/plain": [
              "<Figure size 432x288 with 1 Axes>"
            ],
            "image/png": "[encoded data removed]"
          },
          "metadata": {
            "needs_background": "light"
          }
        }
      ]
    },
    {
      "cell_type": "markdown",
      "source": [
        "The credit amounts are right skewed."
      ],
      "metadata": {
        "id": "TOAVmPgmdqgR"
      },
      "id": "TOAVmPgmdqgR"
    },
    {
      "cell_type": "markdown",
      "id": "f4e7bf4a-25c7-47c0-aea8-ed916d8827f6",
      "metadata": {
        "id": "f4e7bf4a-25c7-47c0-aea8-ed916d8827f6"
      },
      "source": [
        "1.10. Plot the education level of the credit applicants, show the percentages of each category. Also print the total counts for each category."
      ]
    },
    {
      "cell_type": "code",
      "source": [
        "app_train['NAME_EDUCATION_TYPE'].value_counts()"
      ],
      "metadata": {
        "colab": {
          "base_uri": "https://localhost:8080/"
        },
        "id": "UmggCJbuqGIF",
        "outputId": "fbcc55b5-a3f0-40f7-8ce7-29e79785379d"
      },
      "id": "UmggCJbuqGIF",
      "execution_count": null,
      "outputs": [
        {
          "output_type": "execute_result",
          "data": {
            "text/plain": [
              "Secondary / secondary special    153062\n",
              "Higher education                  52283\n",
              "Incomplete higher                  7166\n",
              "Lower secondary                    2634\n",
              "Academic degree                     112\n",
              "Name: NAME_EDUCATION_TYPE, dtype: int64"
            ]
          },
          "metadata": {},
          "execution_count": 18
        }
      ]
    },
    {
      "cell_type": "code",
      "source": [
        "def plot_stats(feature, label_rotation = False):\n",
        "  temp = app_train[feature].value_counts()\n",
        "  df1 = pd.DataFrame({feature: temp.index,'Number of contracts': temp.values})\n",
        "\n",
        "  s = sns.barplot(x = feature, y = \"Number of contracts\", data = df1)\n",
        "\n",
        "  if(label_rotation):\n",
        "    s.set_xticklabels(s.get_xticklabels(), rotation = 90)\n",
        "  plt.show();"
      ],
      "metadata": {
        "id": "a5cKC4brlkcS"
      },
      "id": "a5cKC4brlkcS",
      "execution_count": null,
      "outputs": []
    },
    {
      "cell_type": "code",
      "source": [
        "plot_stats('NAME_EDUCATION_TYPE', True)"
      ],
      "metadata": {
        "colab": {
          "base_uri": "https://localhost:8080/",
          "height": 426
        },
        "id": "CALlRsuQlb7O",
        "outputId": "9f345fa2-c173-44e7-b1dd-238fd410304b"
      },
      "id": "CALlRsuQlb7O",
      "execution_count": null,
      "outputs": [
        {
          "output_type": "display_data",
          "data": {
            "text/plain": [
              "<Figure size 432x288 with 1 Axes>"
            ],
            "image/png": "[encoded data removed]"
          },
          "metadata": {
            "needs_background": "light"
          }
        }
      ]
    },
    {
      "cell_type": "code",
      "source": [
        "# Pie chart, where the slices will be ordered and plotted counter-clockwise:\n",
        "labels = app_train['NAME_EDUCATION_TYPE'].value_counts().index.tolist()\n",
        "sizes = app_train['NAME_EDUCATION_TYPE'].value_counts()\n",
        "explode = (0.1, 0, 0, 0, 0)\n",
        "\n",
        "fig1, ax1 = plt.subplots()\n",
        "ax1.pie(sizes, explode = explode, labels = labels, autopct = '%1.1f%%', shadow = True, startangle = 90, rotatelabels = False)\n",
        "ax1.axis('equal')\n",
        "\n",
        "plt.show()"
      ],
      "metadata": {
        "colab": {
          "base_uri": "https://localhost:8080/",
          "height": 253
        },
        "id": "rchTe0_unaCi",
        "outputId": "411d02e0-e935-4e95-bc0f-04716bdbff36"
      },
      "id": "rchTe0_unaCi",
      "execution_count": null,
      "outputs": [
        {
          "output_type": "display_data",
          "data": {
            "text/plain": [
              "<Figure size 432x288 with 1 Axes>"
            ],
            "image/png": "[encoded data removed]"
          },
          "metadata": {}
        }
      ]
    },
    {
      "cell_type": "markdown",
      "id": "78e17d30-acce-4b7f-bacc-af488cda3e7d",
      "metadata": {
        "id": "78e17d30-acce-4b7f-bacc-af488cda3e7d"
      },
      "source": [
        "1.11. Plot the distribution of ocupation of the loan applicants"
      ]
    },
    {
      "cell_type": "code",
      "execution_count": null,
      "id": "ec101d97-c77b-4e5d-b69f-7c2f8f652d8f",
      "metadata": {
        "id": "ec101d97-c77b-4e5d-b69f-7c2f8f652d8f",
        "colab": {
          "base_uri": "https://localhost:8080/",
          "height": 377
        },
        "outputId": "dab7aca4-f1be-47cd-e6aa-f5daa38f041a"
      },
      "outputs": [
        {
          "output_type": "display_data",
          "data": {
            "text/plain": [
              "<Figure size 432x288 with 1 Axes>"
            ],
            "image/png": "[encoded data removed]"
          },
          "metadata": {
            "needs_background": "light"
          }
        }
      ],
      "source": [
        "### Complete in this cell: ocupation of applicants\n",
        "sns.histplot(app_train['OCCUPATION_TYPE'])\n",
        "plt.xticks(rotation = 'vertical');"
      ]
    },
    {
      "cell_type": "markdown",
      "id": "824b1bc0-4dad-4ce8-b574-cbae5984a589",
      "metadata": {
        "id": "824b1bc0-4dad-4ce8-b574-cbae5984a589"
      },
      "source": [
        "1.12. Plot the family status of the applicants"
      ]
    },
    {
      "cell_type": "code",
      "execution_count": null,
      "id": "95463328-4392-435e-a203-95e28998930b",
      "metadata": {
        "id": "95463328-4392-435e-a203-95e28998930b",
        "colab": {
          "base_uri": "https://localhost:8080/",
          "height": 280
        },
        "outputId": "76b9c1bf-f7cc-4dd2-8c93-83d0dd12ce7b"
      },
      "outputs": [
        {
          "output_type": "display_data",
          "data": {
            "text/plain": [
              "<Figure size 432x288 with 1 Axes>"
            ],
            "image/png": "[encoded data removed]"
          },
          "metadata": {
            "needs_background": "light"
          }
        }
      ],
      "source": [
        "### Complete in this cell: family status\n",
        "sns.histplot(app_train['CNT_FAM_MEMBERS']);"
      ]
    },
    {
      "cell_type": "markdown",
      "id": "efa77db6-a50a-454e-b1b2-83abe3c8baae",
      "metadata": {
        "id": "efa77db6-a50a-454e-b1b2-83abe3c8baae"
      },
      "source": [
        "1.13. Plot the income type of applicants grouped by the target variable"
      ]
    },
    {
      "cell_type": "code",
      "execution_count": null,
      "id": "409f8fe1-9e19-4b3b-8723-a8e1d65312f5",
      "metadata": {
        "id": "409f8fe1-9e19-4b3b-8723-a8e1d65312f5",
        "colab": {
          "base_uri": "https://localhost:8080/",
          "height": 380
        },
        "outputId": "9af9ed0a-93d3-40a9-f0ea-ce6a6c508732"
      },
      "outputs": [
        {
          "output_type": "display_data",
          "data": {
            "text/plain": [
              "<Figure size 432x288 with 1 Axes>"
            ],
            "image/png": "[encoded data removed]"
          },
          "metadata": {
            "needs_background": "light"
          }
        }
      ],
      "source": [
        "### Complete in this cell: income type\n",
        "sns.histplot(app_train['NAME_INCOME_TYPE'])\n",
        "plt.xticks(rotation = 'vertical');"
      ]
    },
    {
      "cell_type": "code",
      "execution_count": null,
      "id": "f22c3267-56c8-45fc-9184-b822cd026571",
      "metadata": {
        "id": "f22c3267-56c8-45fc-9184-b822cd026571",
        "colab": {
          "base_uri": "https://localhost:8080/",
          "height": 286
        },
        "outputId": "c056d828-2c1e-4c86-f2cd-164bbb8ea4c7"
      },
      "outputs": [
        {
          "output_type": "display_data",
          "data": {
            "text/plain": [
              "<Figure size 432x288 with 9 Axes>"
            ],
            "image/png": "[encoded data removed]"
          },
          "metadata": {
            "needs_background": "light"
          }
        }
      ],
      "source": [
        "### Complete in this cell: Income type of applicants by target variable\n",
        "app_train['TARGET'].hist(by=app_train['NAME_INCOME_TYPE']);"
      ]
    },
    {
      "cell_type": "markdown",
      "id": "675b1ae3-c943-4737-bdb8-2ecff733b27b",
      "metadata": {
        "id": "675b1ae3-c943-4737-bdb8-2ecff733b27b"
      },
      "source": [
        "## 2. Preprocessing"
      ]
    },
    {
      "cell_type": "markdown",
      "source": [
        "2.1. The first step will be separate our train and test datasets columns between Features and Targets.\n",
        "\n",
        "- Assign to `X_train` those columns from `app_train` that should be used as features for training our models.\n",
        "- Assign to `y_train` the single column from `app_train` that should be used as our target (i.e. what we want to predict).\n",
        "- Assign to `X_test` those columns from `app_test` that should be used as features for training our models.\n",
        "- Assign to `y_test` the single column from `app_test` that should be used as our target (i.e. what we want to predict).\n"
      ],
      "metadata": {
        "id": "VvT_6ZEOztAQ"
      },
      "id": "VvT_6ZEOztAQ"
    },
    {
      "cell_type": "code",
      "source": [
        "### Complete in this cell\n",
        "X_train = app_train.drop('TARGET', axis = 1)\n",
        "y_train = app_train['TARGET']\n",
        "X_test = app_test.drop('TARGET', axis = 1)\n",
        "y_test = app_test['TARGET']"
      ],
      "metadata": {
        "id": "Mm9px1oQztZT"
      },
      "id": "Mm9px1oQztZT",
      "execution_count": null,
      "outputs": []
    },
    {
      "cell_type": "markdown",
      "source": [
        "**Don't change anything in this cell, just make it run correctly**"
      ],
      "metadata": {
        "id": "wrkoywq9aNvJ"
      },
      "id": "wrkoywq9aNvJ"
    },
    {
      "cell_type": "code",
      "source": [
        "if X_train.shape == (215257, 122):\n",
        "  print('Success: X_train shape is correct!')\n",
        "else:\n",
        "  raise ValueError('X_train dataset shape is incorrect, please review your code')\n",
        "\n",
        "if isinstance(X_train, pd.DataFrame):\n",
        "  print('Success: X_train type is correct!')\n",
        "else:\n",
        "  raise ValueError('Train dataset type is incorrect, please review your code')\n",
        "\n",
        "if y_train.shape == (215257,) or y_train.shape == (215257, 1):\n",
        "  print('Success: y_train shape is correct!')\n",
        "else:\n",
        "  raise ValueError('Train labels shape is incorrect, please review your code')\n",
        "\n",
        "if X_test.shape == (92254, 122):\n",
        "  print('Success: X_test shape is correct!')\n",
        "else:\n",
        "  raise ValueError('Test dataset shape is incorrect, please review your code')\n",
        "\n",
        "if isinstance(X_test, pd.DataFrame):\n",
        "  print('Success: X_test type is correct!')\n",
        "else:\n",
        "  raise ValueError('Test dataset type is incorrect, please review your code')\n",
        "\n",
        "if y_test.shape == (92254,) or y_test.shape == (92254, 1):\n",
        "  print('Success: y_test shape is correct!')\n",
        "else:\n",
        "  raise ValueError('Test labels shape is incorrect, please review your code')\n"
      ],
      "metadata": {
        "id": "5F5UeGj1aNvJ",
        "colab": {
          "base_uri": "https://localhost:8080/"
        },
        "outputId": "95ce77bb-a48e-46b0-e060-f5c2dde40134"
      },
      "execution_count": null,
      "outputs": [
        {
          "output_type": "stream",
          "name": "stdout",
          "text": [
            "Success: X_train shape is correct!\n",
            "Success: X_train type is correct!\n",
            "Success: y_train shape is correct!\n",
            "Success: X_test shape is correct!\n",
            "Success: X_test type is correct!\n",
            "Success: y_test shape is correct!\n"
          ]
        }
      ],
      "id": "5F5UeGj1aNvJ"
    },
    {
      "cell_type": "markdown",
      "id": "51397c38-0204-454b-8fe6-011dc8c38418",
      "metadata": {
        "id": "51397c38-0204-454b-8fe6-011dc8c38418"
      },
      "source": [
        "2.2. In this section, you will code a function to make all the data pre processing for the dataset. What you have to deliver is a function that takes `X_train` and `X_test` dataframes, processes all features, and returns the transformed data as numpy arrays ready to be used for training.\n",
        "\n",
        "The function should perform these activities:\n",
        "\n",
        "- Correct outliers/anomalous values in numerical columns (hint: take a look at the DAYS_EMPLOYED column)\n",
        "- Impute values for all columns with missing data (use median as imputing value)\n",
        "- Encode categorical features:\n",
        "    - If feature has 2 categories encode using binary encoding\n",
        "    - More than 2 categories, use one hot encoding\n",
        "- Feature scaling\n",
        "\n",
        "**Important note:** Keep in mind that you could get different number of columns in train and test because some category could only be present in one of the dataframes, this could create more one hot encoded columns. You should align train and test to have the same number of columns. Check `pandas.DataFrame.align()` function.\n",
        "\n",
        "Complete the function `preprocess_data(train_df: pd.DataFrame, test_df: pd.DataFrame)` following the instructions given above."
      ]
    },
    {
      "cell_type": "code",
      "source": [
        "def preprocess_data(train_df, test_df):\n",
        "  \"\"\"\n",
        "  Pre processes data for modeling. Receives train and testing dataframes\n",
        "  for Home Credit Competition, and returns numpy ndarrays of cleaned up\n",
        "  dataframes with feature engineering already performed.\n",
        "\n",
        "  Arguments:\n",
        "      train_df: pd.DataFrame\n",
        "      test_df: pd.DataFrame\n",
        "\n",
        "  Returns:\n",
        "      train_data: np.ndarrary\n",
        "      test_data: np.ndarrary\n",
        "  \"\"\"\n",
        "  a_df, b_df = train_df.align(test_df, join=\"outer\", axis = 1)\n",
        "\n",
        "  # Determine categorical and numerical features\n",
        "  a_numeric_features = a_df.select_dtypes(include=['int64', 'float64']).columns\n",
        "  b_numeric_features = b_df.select_dtypes(include=['int64', 'float64']).columns\n",
        "\n",
        "  a_categorical_features = a_df.select_dtypes(include=['object', 'bool']).columns\n",
        "  b_categorical_features = b_df.select_dtypes(include=['object', 'bool']).columns\n",
        "\n",
        "  # Variables for the quantile values\n",
        "  a_Q1 = a_df[a_numeric_features].quantile(0.25)\n",
        "  a_Q3 = a_df[a_numeric_features].quantile(0.75)\n",
        "  a_IQR = a_Q3 - a_Q1\n",
        "\n",
        "  b_Q1 = b_df[b_numeric_features].quantile(0.25)\n",
        "  b_Q3 = b_df[b_numeric_features].quantile(0.75)\n",
        "  b_IQR = b_Q3 - b_Q1\n",
        "\n",
        "  # Variables the bounds\n",
        "  a_lower_bound = a_Q1 - 1.5 * a_IQR\n",
        "  a_upper_bound = a_Q3 + 1.5 * a_IQR\n",
        "\n",
        "  b_lower_bound = b_Q1 - 1.5 * b_IQR\n",
        "  b_upper_bound = b_Q3 + 1.5 * b_IQR\n",
        "\n",
        "  # Creates dataframe with boolean values, where True are those that are outliers in their respective column\n",
        "  a_df_mask = (a_df[a_numeric_features] < a_lower_bound) | (a_df[a_numeric_features] > a_upper_bound)\n",
        "  b_df_mask = (b_df[b_numeric_features] < b_lower_bound) | (b_df[b_numeric_features] > b_upper_bound)\n",
        "\n",
        "  # Replaces values where the condition is True to NaN values and keep the rest the same as before\n",
        "  a_df_mask = a_df.mask(a_df_mask).select_dtypes(exclude = 'object')\n",
        "  b_df_mask = b_df.mask(b_df_mask).select_dtypes(exclude = 'object')\n",
        "\n",
        "  # Creates another temporary dataframe for only categorical features\n",
        "  a_df_cat = a_df.select_dtypes(include = 'object')\n",
        "  b_df_cat = b_df.select_dtypes(include = 'object')\n",
        "\n",
        "  # Merges the masked dataframe with the only categorical features dataframe without the outliers\n",
        "  a_df_without_outliers = pd.merge(a_df_cat, a_df_mask, left_index = True, right_index = True)\n",
        "  b_df_without_outliers = pd.merge(b_df_cat, b_df_mask, left_index = True, right_index = True)\n",
        "\n",
        "  from sklearn.compose import ColumnTransformer\n",
        "  from sklearn.pipeline import make_pipeline\n",
        "  from sklearn.impute import SimpleImputer\n",
        "  from sklearn.preprocessing import OneHotEncoder, StandardScaler\n",
        "\n",
        "  # Creates a preprocessor for X_train\n",
        "  a_preprocessor = ColumnTransformer(\n",
        "      [\n",
        "          ('num',\n",
        "          make_pipeline(SimpleImputer(strategy = \"median\"), StandardScaler()),\n",
        "          a_numeric_features),\n",
        "          ('cat',\n",
        "          OneHotEncoder(handle_unknown='ignore'),\n",
        "          a_categorical_features,\n",
        "          ),\n",
        "      ]\n",
        "  )\n",
        "\n",
        "  # Creates a preprocessor for X_test\n",
        "  b_preprocessor = ColumnTransformer(\n",
        "      [\n",
        "          ('num',\n",
        "          make_pipeline(SimpleImputer(strategy = \"median\"), StandardScaler()),\n",
        "          b_numeric_features),\n",
        "          ('cat',\n",
        "          OneHotEncoder(handle_unknown='ignore'),\n",
        "          b_categorical_features,\n",
        "          ),\n",
        "      ]\n",
        "  )\n",
        "\n",
        "  return a_preprocessor.fit_transform(a_df), b_preprocessor.fit_transform(b_df)"
      ],
      "metadata": {
        "id": "wvF800vpqvsD"
      },
      "execution_count": null,
      "outputs": [],
      "id": "wvF800vpqvsD"
    },
    {
      "cell_type": "markdown",
      "source": [
        "In the following cell we are going to execute the functions you've just coded. No need to modify this.\n",
        "\n",
        "**Important Note:** From now on, you must always use `train_data` for training your models and `test_data` only for the final evaluation of the model trained."
      ],
      "metadata": {
        "id": "-1YXG39vc2qX"
      },
      "id": "-1YXG39vc2qX"
    },
    {
      "cell_type": "markdown",
      "source": [
        "**Don't change anything in this cell, just make it run correctly**"
      ],
      "metadata": {
        "id": "mMkqwi0gd7a8"
      },
      "id": "mMkqwi0gd7a8"
    },
    {
      "cell_type": "code",
      "execution_count": null,
      "id": "98df784f-3e3c-42ac-8c09-b6a3d8dacf8b",
      "metadata": {
        "id": "98df784f-3e3c-42ac-8c09-b6a3d8dacf8b"
      },
      "outputs": [],
      "source": [
        "train_data, test_data = preprocess_data(X_train, X_test)"
      ]
    },
    {
      "cell_type": "code",
      "source": [
        "train_data.shape"
      ],
      "metadata": {
        "colab": {
          "base_uri": "https://localhost:8080/"
        },
        "id": "Osvel6Tm27Oc",
        "outputId": "d509aae0-f5b7-4143-afba-0967ccdf4ee5"
      },
      "id": "Osvel6Tm27Oc",
      "execution_count": null,
      "outputs": [
        {
          "output_type": "execute_result",
          "data": {
            "text/plain": [
              "(215257, 251)"
            ]
          },
          "metadata": {},
          "execution_count": 34
        }
      ]
    },
    {
      "cell_type": "markdown",
      "source": [
        "**Don't change anything in this cell, just make it run correctly**"
      ],
      "metadata": {
        "id": "rupRp_y2cyYe"
      },
      "id": "rupRp_y2cyYe"
    },
    {
      "cell_type": "code",
      "source": [
        "if train_data.shape == (215257, 242):\n",
        "  print('Success: train_data shape is correct!')\n",
        "else:\n",
        "  raise ValueError('train_data dataset shape is incorrect, please review your code')\n",
        "\n",
        "if isinstance(train_data, np.ndarray):\n",
        "  print('Success: train_data type is correct!')\n",
        "else:\n",
        "  raise ValueError('Train dataset type is incorrect, please review your code')\n",
        "\n",
        "if test_data.shape == (92254, 242):\n",
        "  print('Success: test_data shape is correct!')\n",
        "else:\n",
        "  raise ValueError('test_data dataset shape is incorrect, please review your code')\n",
        "\n",
        "if isinstance(test_data, np.ndarray):\n",
        "  print('Success: test_data type is correct!')\n",
        "else:\n",
        "  raise ValueError('Train dataset type is incorrect, please review your code')\n"
      ],
      "metadata": {
        "id": "whWcb5jtcyYe",
        "colab": {
          "base_uri": "https://localhost:8080/",
          "height": 244
        },
        "outputId": "4b2cee6e-76f3-4a23-f895-857d76dff151"
      },
      "execution_count": null,
      "outputs": [
        {
          "output_type": "error",
          "ename": "ValueError",
          "evalue": "ignored",
          "traceback": [
            "\u001b[0;31m---------------------------------------------------------------------------\u001b[0m",
            "\u001b[0;31mValueError\u001b[0m                                Traceback (most recent call last)",
            "\u001b[0;32m<ipython-input-35-af85d1074d83>\u001b[0m in \u001b[0;36m<module>\u001b[0;34m\u001b[0m\n\u001b[1;32m      2\u001b[0m   \u001b[0mprint\u001b[0m\u001b[0;34m(\u001b[0m\u001b[0;34m'Success: train_data shape is correct!'\u001b[0m\u001b[0;34m)\u001b[0m\u001b[0;34m\u001b[0m\u001b[0;34m\u001b[0m\u001b[0m\n\u001b[1;32m      3\u001b[0m \u001b[0;32melse\u001b[0m\u001b[0;34m:\u001b[0m\u001b[0;34m\u001b[0m\u001b[0;34m\u001b[0m\u001b[0m\n\u001b[0;32m----> 4\u001b[0;31m   \u001b[0;32mraise\u001b[0m \u001b[0mValueError\u001b[0m\u001b[0;34m(\u001b[0m\u001b[0;34m'train_data dataset shape is incorrect, please review your code'\u001b[0m\u001b[0;34m)\u001b[0m\u001b[0;34m\u001b[0m\u001b[0;34m\u001b[0m\u001b[0m\n\u001b[0m\u001b[1;32m      5\u001b[0m \u001b[0;34m\u001b[0m\u001b[0m\n\u001b[1;32m      6\u001b[0m \u001b[0;32mif\u001b[0m \u001b[0misinstance\u001b[0m\u001b[0;34m(\u001b[0m\u001b[0mtrain_data\u001b[0m\u001b[0;34m,\u001b[0m \u001b[0mnp\u001b[0m\u001b[0;34m.\u001b[0m\u001b[0mndarray\u001b[0m\u001b[0;34m)\u001b[0m\u001b[0;34m:\u001b[0m\u001b[0;34m\u001b[0m\u001b[0;34m\u001b[0m\u001b[0m\n",
            "\u001b[0;31mValueError\u001b[0m: train_data dataset shape is incorrect, please review your code"
          ]
        }
      ],
      "id": "whWcb5jtcyYe"
    },
    {
      "cell_type": "markdown",
      "id": "2f5df1e8-1f03-4f14-9dbd-292d3b84859d",
      "metadata": {
        "id": "2f5df1e8-1f03-4f14-9dbd-292d3b84859d"
      },
      "source": [
        "## 3. Training Models"
      ]
    },
    {
      "cell_type": "markdown",
      "id": "83062f02-7157-4083-b57b-78fbc95fe39b",
      "metadata": {
        "id": "83062f02-7157-4083-b57b-78fbc95fe39b"
      },
      "source": [
        "As usual, you will start training simple models and will progressively move to more complex models and pipelines.\n",
        "\n",
        "**Pro tip:** It is of utmost importance to make an accurate estimation of the time required to train a machine learning model. Because of this, we recommend you to use Python [time](https://docs.python.org/3/library/time.html) library or Jupyter magic function `%%time` on the cell you're training your model to get an estimate of the time it took to fit your data."
      ]
    },
    {
      "cell_type": "markdown",
      "id": "7e99a786-a17e-4caa-9ac7-48fced40fa71",
      "metadata": {
        "id": "7e99a786-a17e-4caa-9ac7-48fced40fa71"
      },
      "source": [
        "### Baseline: LogisticRegression"
      ]
    },
    {
      "cell_type": "markdown",
      "id": "91e10796-6d86-4fce-8738-4b9c4fbbf359",
      "metadata": {
        "id": "91e10796-6d86-4fce-8738-4b9c4fbbf359"
      },
      "source": [
        "3.1. Import LogisticRegression from sklearn and train a model using the preprocesed train data from the previous section, and just default parameters. If you receive a warning because the algorithm failed to converge, try increasing the number of iterations or decreasing the C parameter.\n",
        "\n",
        "Assign the trained model to `log_reg` variable."
      ]
    },
    {
      "cell_type": "code",
      "execution_count": null,
      "id": "e1285054-4ea6-4bdb-9477-e774fc3d04c5",
      "metadata": {
        "id": "e1285054-4ea6-4bdb-9477-e774fc3d04c5"
      },
      "outputs": [],
      "source": [
        "### Complete in this cell: train a logistic regression, assign to `log_reg` variable\n",
        "log_reg = LogisticRegression(random_state = 42, max_iter = 10000)"
      ]
    },
    {
      "cell_type": "markdown",
      "source": [
        "**Don't change anything in this cell, just make it run correctly**"
      ],
      "metadata": {
        "id": "2OTXvqibhqid"
      },
      "id": "2OTXvqibhqid"
    },
    {
      "cell_type": "code",
      "source": [
        "if isinstance(log_reg, LogisticRegression):\n",
        "  print('Success: Logistic regression model type is correct!')\n",
        "else:\n",
        "  raise ValueError('Logistic regression model type is incorrect, please review your code')"
      ],
      "metadata": {
        "id": "JmFsb5DShqid",
        "colab": {
          "base_uri": "https://localhost:8080/"
        },
        "outputId": "ee09d16d-790f-4ab5-c0da-efe3f9456545"
      },
      "execution_count": null,
      "outputs": [
        {
          "output_type": "stream",
          "name": "stdout",
          "text": [
            "Success: Logistic regression model type is correct!\n"
          ]
        }
      ],
      "id": "JmFsb5DShqid"
    },
    {
      "cell_type": "markdown",
      "id": "018d5c7e-012f-47cc-8bfc-0332de907ae9",
      "metadata": {
        "id": "018d5c7e-012f-47cc-8bfc-0332de907ae9"
      },
      "source": [
        "3.2. Use the trained model to predict probabilities for the test data.\n",
        "\n",
        "**Important note:** When using the function `predict_proba()` for getting model probabilities you will get, for each sample, a tuple indicating the probability for class 0 and for class 1 respectively. For computing the AUC ROC score we only need the probability that the debt is not repaid (equivalent to class 1)."
      ]
    },
    {
      "cell_type": "code",
      "execution_count": null,
      "id": "798ae69b-1fe2-458d-9de7-3e1ed70b9b02",
      "metadata": {
        "id": "798ae69b-1fe2-458d-9de7-3e1ed70b9b02",
        "colab": {
          "base_uri": "https://localhost:8080/"
        },
        "outputId": "22e2e0c3-bd29-4b10-cfb1-8bd5b4b2752c"
      },
      "outputs": [
        {
          "output_type": "stream",
          "name": "stdout",
          "text": [
            "CPU times: user 1min 47s, sys: 15.6 s, total: 2min 2s\n",
            "Wall time: 1min 5s\n"
          ]
        },
        {
          "output_type": "execute_result",
          "data": {
            "text/plain": [
              "LogisticRegression(max_iter=10000, random_state=42)"
            ]
          },
          "metadata": {},
          "execution_count": 39
        }
      ],
      "source": [
        "%time log_reg.fit(train_data, y_train)"
      ]
    },
    {
      "cell_type": "code",
      "source": [
        "### Complete in this cell: predict test data\n",
        "log_reg.predict_proba(train_data)"
      ],
      "metadata": {
        "colab": {
          "base_uri": "https://localhost:8080/"
        },
        "id": "llQHZQPkTzDe",
        "outputId": "7955c703-a297-4506-8ffd-ad41590c8186"
      },
      "id": "llQHZQPkTzDe",
      "execution_count": null,
      "outputs": [
        {
          "output_type": "execute_result",
          "data": {
            "text/plain": [
              "array([[0.96210822, 0.03789178],\n",
              "       [0.90163334, 0.09836666],\n",
              "       [0.95451298, 0.04548702],\n",
              "       ...,\n",
              "       [0.98415337, 0.01584663],\n",
              "       [0.98037707, 0.01962293],\n",
              "       [0.76506581, 0.23493419]])"
            ]
          },
          "metadata": {},
          "execution_count": 40
        }
      ]
    },
    {
      "cell_type": "markdown",
      "id": "b0826305-4900-4ba1-bf25-48205be980c6",
      "metadata": {
        "id": "b0826305-4900-4ba1-bf25-48205be980c6"
      },
      "source": [
        "3.3. Get AUC ROC score on test dataset. See [scikit-learn AUC ROC function](https://scikit-learn.org/stable/modules/generated/sklearn.metrics.roc_auc_score.html) for a working implementation.\n",
        "\n",
        "Assign the AUC ROC score to `lr_roc_auc` variable.\n"
      ]
    },
    {
      "cell_type": "code",
      "source": [
        "from sklearn.metrics import roc_auc_score"
      ],
      "metadata": {
        "id": "c6EltbtHWmkZ"
      },
      "id": "c6EltbtHWmkZ",
      "execution_count": null,
      "outputs": []
    },
    {
      "cell_type": "code",
      "source": [
        "### Complete in this cell: calculate roc_auc_score.\n",
        "### Assign to `lr_roc_auc` variable.\n",
        "lr_roc_auc = roc_auc_score(y_train, log_reg.predict_proba(train_data)[:, 1])"
      ],
      "metadata": {
        "id": "Wc_jvwY6WZ-D"
      },
      "id": "Wc_jvwY6WZ-D",
      "execution_count": null,
      "outputs": []
    },
    {
      "cell_type": "markdown",
      "id": "4d889582-0c21-4789-acac-4d58f8eb74d9",
      "metadata": {
        "id": "4d889582-0c21-4789-acac-4d58f8eb74d9"
      },
      "source": [
        "At this point, the model should produce a result around 0.67"
      ]
    },
    {
      "cell_type": "markdown",
      "source": [
        "**Don't change anything in this cell, just make it run correctly**"
      ],
      "metadata": {
        "id": "ap_JpPoNidg2"
      },
      "id": "ap_JpPoNidg2"
    },
    {
      "cell_type": "code",
      "source": [
        "if isinstance(lr_roc_auc, float):\n",
        "  print('Success: AUC ROC score type is correct!')\n",
        "else:\n",
        "  raise ValueError('AUC ROC score type is incorrect, please review your code')\n",
        "\n",
        "if lr_roc_auc >= 0.63:\n",
        "  print('Success: AUC ROC score is correct!')\n",
        "else:\n",
        "  raise ValueError('AUC ROC score is incorrect, please review your code')"
      ],
      "metadata": {
        "id": "KWSHN2Ouidg2",
        "colab": {
          "base_uri": "https://localhost:8080/"
        },
        "outputId": "2a87db13-7452-4a3c-f1dd-ac72df316363"
      },
      "execution_count": null,
      "outputs": [
        {
          "output_type": "stream",
          "name": "stdout",
          "text": [
            "Success: AUC ROC score type is correct!\n",
            "Success: AUC ROC score is correct!\n"
          ]
        }
      ],
      "id": "KWSHN2Ouidg2"
    },
    {
      "cell_type": "markdown",
      "id": "8f8300cc-d8be-4303-9042-757cb9e15d3e",
      "metadata": {
        "id": "8f8300cc-d8be-4303-9042-757cb9e15d3e"
      },
      "source": [
        "### Training a Random Forest Classifier"
      ]
    },
    {
      "cell_type": "markdown",
      "id": "05280b49-11af-4fe6-9236-95f31fb5e0d5",
      "metadata": {
        "id": "05280b49-11af-4fe6-9236-95f31fb5e0d5"
      },
      "source": [
        "You're gonna start working in more complex models: ensambles, particularly, you're going to use the Random Forest Classifier from Scikit Learn."
      ]
    },
    {
      "cell_type": "markdown",
      "id": "0efdfd67-ec68-49b3-8727-7ab9784b5e54",
      "metadata": {
        "id": "0efdfd67-ec68-49b3-8727-7ab9784b5e54"
      },
      "source": [
        "3.4. Train a RandomForestClassifier, print the time taken by the fit function. Just use default hyperparameters, except for n_jobs, which should be set to \"-1\" to allow the library to use all CPU cores to speed up training time.\n",
        "\n",
        "Assign the trained model to `rf` variable."
      ]
    },
    {
      "cell_type": "code",
      "source": [
        "from sklearn.ensemble import RandomForestClassifier"
      ],
      "metadata": {
        "id": "cZNAHq1uYWAy"
      },
      "id": "cZNAHq1uYWAy",
      "execution_count": null,
      "outputs": []
    },
    {
      "cell_type": "code",
      "execution_count": null,
      "id": "1d3b9ea6-4bf9-42f0-aed1-1c0f3a4f9b39",
      "metadata": {
        "id": "1d3b9ea6-4bf9-42f0-aed1-1c0f3a4f9b39"
      },
      "outputs": [],
      "source": [
        "### Complete in this cell: train a RandomForestClassifier\n",
        "### Assgign to `rf`\n",
        "rf = RandomForestClassifier(n_jobs = -1, random_state = 42)"
      ]
    },
    {
      "cell_type": "markdown",
      "id": "3b12a0a5-8ff1-4cb6-9928-37122d2a3435",
      "metadata": {
        "id": "3b12a0a5-8ff1-4cb6-9928-37122d2a3435"
      },
      "source": [
        "3.5. Use the classifier to predict probabilities on the test set.\n",
        "\n"
      ]
    },
    {
      "cell_type": "code",
      "execution_count": null,
      "id": "4ba80108-858c-4d4e-ba19-7f19fa526dc9",
      "metadata": {
        "id": "4ba80108-858c-4d4e-ba19-7f19fa526dc9",
        "colab": {
          "base_uri": "https://localhost:8080/"
        },
        "outputId": "3c906427-af03-4c8e-9144-3a2561f19d96"
      },
      "outputs": [
        {
          "output_type": "stream",
          "name": "stdout",
          "text": [
            "CPU times: user 1min 51s, sys: 531 ms, total: 1min 52s\n",
            "Wall time: 58.4 s\n"
          ]
        },
        {
          "output_type": "execute_result",
          "data": {
            "text/plain": [
              "RandomForestClassifier(n_jobs=-1, random_state=42)"
            ]
          },
          "metadata": {},
          "execution_count": 46
        }
      ],
      "source": [
        "### Complete in this cell: predict test data and store in\n",
        "%time rf.fit(train_data, y_train)"
      ]
    },
    {
      "cell_type": "markdown",
      "metadata": {
        "id": "W3TrmlUF2pDM"
      },
      "source": [
        "3.6. Get AUC ROC score on test dataset.\n",
        "\n",
        "Assign the AUC ROC score to `rf_roc_auc` variable.\n"
      ],
      "id": "W3TrmlUF2pDM"
    },
    {
      "cell_type": "code",
      "source": [
        "### Complete in this cell: calculate roc_auc_score.\n",
        "### Assign to `rf_roc_auc` variable.\n",
        "rf_roc_auc = roc_auc_score(y_train, rf.predict_proba(train_data)[:, 1])"
      ],
      "metadata": {
        "id": "B95fp5czYKel"
      },
      "id": "B95fp5czYKel",
      "execution_count": null,
      "outputs": []
    },
    {
      "cell_type": "markdown",
      "source": [
        "At this point, the model should produce a result around 0.7"
      ],
      "metadata": {
        "id": "8_buAhkG24ZC"
      },
      "id": "8_buAhkG24ZC"
    },
    {
      "cell_type": "markdown",
      "source": [
        "**Don't change anything in this cell, just make it run correctly**"
      ],
      "metadata": {
        "id": "-1iYZeNjW-pR"
      },
      "id": "-1iYZeNjW-pR"
    },
    {
      "cell_type": "code",
      "source": [
        "if isinstance(rf_roc_auc, float):\n",
        "  print('Success: AUC ROC score type is correct!')\n",
        "else:\n",
        "  raise ValueError('AUC ROC score type is incorrect, please review your code')\n",
        "\n",
        "if rf_roc_auc >= 0.66:\n",
        "  print('Success: AUC ROC score is correct!')\n",
        "else:\n",
        "  raise ValueError('AUC ROC score is incorrect, please review your code')"
      ],
      "metadata": {
        "id": "G1I6K19KW-pa",
        "colab": {
          "base_uri": "https://localhost:8080/"
        },
        "outputId": "9fba4e83-d39e-4fae-9322-6f96e1e47ad1"
      },
      "execution_count": null,
      "outputs": [
        {
          "output_type": "stream",
          "name": "stdout",
          "text": [
            "Success: AUC ROC score type is correct!\n",
            "Success: AUC ROC score is correct!\n"
          ]
        }
      ],
      "id": "G1I6K19KW-pa"
    },
    {
      "cell_type": "markdown",
      "id": "4acfcc24-62b6-4118-9c42-a0268dcf5c53",
      "metadata": {
        "id": "4acfcc24-62b6-4118-9c42-a0268dcf5c53"
      },
      "source": [
        "### Randomized Search with Cross Validation"
      ]
    },
    {
      "cell_type": "markdown",
      "id": "dd634b2b-68af-4db1-b062-1496f8d1179e",
      "metadata": {
        "id": "dd634b2b-68af-4db1-b062-1496f8d1179e"
      },
      "source": [
        "So far, we've only created models using the default hyperparameters of each algorithm. This is usually something that we would only do for baseline models, hyperparameter tuning is a very important part of the modeling process and is often the difference between having an acceptable model or not.\n",
        "\n",
        "But, there are usually lots of hyperparameters to tune and a finite amount of time to do it, you have to consider the time and resources it takes to find an optimal combination of them. In the previous section you trained a random forest classifier and saw how much it took to train it once in your PC. If you want to do hyperparameter optimization you now have to consider that you will have to train the algorithm N number of times, with N being the cartesian product of all parameters.\n",
        "\n",
        "Furthermore, you can't validate the performance of your trained models on the test set, as this data should only be used to validate the final model. So we have to implement a validation strategy, K-Fold Cross Validation being the most common. But this also adds time complexity to our training, because we will have to train each combinations of hyperparameters M number of times, X being the number of folds in which we divided our dataset, so the total number of training iterations will be NxM... this resulting number can grow VERY quickly.\n",
        "\n",
        "Fortunately there are strategies to mitigate this, here you're going to select a small number of hyperparameters to test a RandomForestClassifier, and use a Randomized Search algorithm with K-Fold Cross Validation to avoid doing a full search across the grid.\n",
        "\n",
        "Remember: take in consideration how much time it took to train a single classifier, and define the number of cross validations folds and iterations of the search accordingly.\n",
        "A recommendation: run the training process, go make yourself a cup of coffee, sit somewhere comfortably and forget about it for a while.\n"
      ]
    },
    {
      "cell_type": "markdown",
      "id": "c49a11c7-156f-46bb-8bba-be29d1b2ed1a",
      "metadata": {
        "id": "c49a11c7-156f-46bb-8bba-be29d1b2ed1a"
      },
      "source": [
        "3.7. Use RandomizedSearchCV to find the best combination of hyperparameters for a RandomForestClassifier. The validation metric used to evaluate the models should be \"roc_auc\" (i.e. `scoring=\"roc_auc\"`).\n",
        "\n",
        "Assign the trained model to `rf_random` variable."
      ]
    },
    {
      "cell_type": "code",
      "source": [
        "from sklearn.model_selection import RandomizedSearchCV"
      ],
      "metadata": {
        "id": "k0VBuSLJJbFD"
      },
      "id": "k0VBuSLJJbFD",
      "execution_count": null,
      "outputs": []
    },
    {
      "cell_type": "code",
      "source": [
        "# Creates a parameter grid to sample from during fitting\n",
        "\n",
        "# Number of trees in random forest\n",
        "n_estimators = [int(x) for x in np.linspace(start = 500, stop = 600, num = 2)]\n",
        "# Number of features to consider at every split\n",
        "max_features = ['auto']\n",
        "# Maximum number of levels in tree\n",
        "max_depth = [int(x) for x in np.linspace(10, 100, num = 2)]\n",
        "#max_depth.append(None)\n",
        "# Minimum number of samples required to split a node\n",
        "min_samples_split = [2, 5]\n",
        "# Minimum number of samples required at each leaf node\n",
        "min_samples_leaf = [1, 2]\n",
        "# Method of selecting samples for training each tree\n",
        "#bootstrap = [True, False]\n",
        "\n",
        "# Create the random grid\n",
        "random_grid = {'n_estimators': n_estimators,\n",
        "               'max_features': max_features,\n",
        "               'max_depth': max_depth,\n",
        "               'min_samples_split': min_samples_split,\n",
        "               'min_samples_leaf': min_samples_leaf,\n",
        "               #'bootstrap': bootstrap\n",
        "               }\n",
        "\n",
        "\n",
        "print(random_grid)"
      ],
      "metadata": {
        "colab": {
          "base_uri": "https://localhost:8080/"
        },
        "id": "YwomO7UHLTiO",
        "outputId": "3a3c6695-e816-4430-d766-b62ae242d3e5"
      },
      "id": "YwomO7UHLTiO",
      "execution_count": null,
      "outputs": [
        {
          "output_type": "stream",
          "name": "stdout",
          "text": [
            "{'n_estimators': [500, 600], 'max_features': ['auto'], 'max_depth': [10, 100], 'min_samples_split': [2, 5], 'min_samples_leaf': [1, 2]}\n"
          ]
        }
      ]
    },
    {
      "cell_type": "code",
      "execution_count": null,
      "id": "0cb4c536-82d8-49f8-a0b6-fede491055c1",
      "metadata": {
        "id": "0cb4c536-82d8-49f8-a0b6-fede491055c1"
      },
      "outputs": [],
      "source": [
        "### Complete in this cell: Use RandomizedSearchCV to find the best combination\n",
        "### of hyperparameters for a RandomForestClassifier.\n",
        "### Assign the model to `rf_random`\n",
        "\n",
        "rf_random = RandomizedSearchCV(estimator = rf, param_distributions = random_grid, n_iter = 10, cv = 2, verbose = 2, random_state = 42)"
      ]
    },
    {
      "cell_type": "markdown",
      "id": "b09205aa-5afc-481a-b45b-d5e80b56d804",
      "metadata": {
        "id": "b09205aa-5afc-481a-b45b-d5e80b56d804"
      },
      "source": [
        "3.8. Use the classifier to predict probabilities on the test set.\n"
      ]
    },
    {
      "cell_type": "code",
      "execution_count": null,
      "id": "4429ca94-57f4-487e-b3dd-883bc7bc7835",
      "metadata": {
        "id": "4429ca94-57f4-487e-b3dd-883bc7bc7835",
        "colab": {
          "base_uri": "https://localhost:8080/"
        },
        "outputId": "d974dc3f-257e-409d-e118-4cb9718bb7a3"
      },
      "outputs": [
        {
          "output_type": "stream",
          "name": "stdout",
          "text": [
            "Fitting 2 folds for each of 10 candidates, totalling 20 fits\n",
            "[CV] END max_depth=10, max_features=auto, min_samples_leaf=1, min_samples_split=2, n_estimators=500; total time= 1.6min\n",
            "[CV] END max_depth=10, max_features=auto, min_samples_leaf=1, min_samples_split=2, n_estimators=500; total time= 1.6min\n",
            "[CV] END max_depth=10, max_features=auto, min_samples_leaf=1, min_samples_split=2, n_estimators=600; total time= 1.9min\n",
            "[CV] END max_depth=10, max_features=auto, min_samples_leaf=1, min_samples_split=2, n_estimators=600; total time= 1.9min\n",
            "[CV] END max_depth=10, max_features=auto, min_samples_leaf=2, min_samples_split=2, n_estimators=600; total time= 1.9min\n",
            "[CV] END max_depth=10, max_features=auto, min_samples_leaf=2, min_samples_split=2, n_estimators=600; total time= 1.9min\n",
            "[CV] END max_depth=100, max_features=auto, min_samples_leaf=2, min_samples_split=5, n_estimators=500; total time= 2.7min\n",
            "[CV] END max_depth=100, max_features=auto, min_samples_leaf=2, min_samples_split=5, n_estimators=500; total time= 2.7min\n",
            "[CV] END max_depth=100, max_features=auto, min_samples_leaf=2, min_samples_split=2, n_estimators=600; total time= 3.3min\n",
            "[CV] END max_depth=100, max_features=auto, min_samples_leaf=2, min_samples_split=2, n_estimators=600; total time= 3.3min\n",
            "[CV] END max_depth=100, max_features=auto, min_samples_leaf=1, min_samples_split=5, n_estimators=600; total time= 3.8min\n",
            "[CV] END max_depth=100, max_features=auto, min_samples_leaf=1, min_samples_split=5, n_estimators=600; total time= 3.7min\n",
            "[CV] END max_depth=100, max_features=auto, min_samples_leaf=1, min_samples_split=2, n_estimators=500; total time= 3.2min\n",
            "[CV] END max_depth=100, max_features=auto, min_samples_leaf=1, min_samples_split=2, n_estimators=500; total time= 3.1min\n",
            "[CV] END max_depth=100, max_features=auto, min_samples_leaf=1, min_samples_split=2, n_estimators=600; total time= 3.8min\n",
            "[CV] END max_depth=100, max_features=auto, min_samples_leaf=1, min_samples_split=2, n_estimators=600; total time= 3.8min\n",
            "[CV] END max_depth=10, max_features=auto, min_samples_leaf=1, min_samples_split=5, n_estimators=500; total time= 1.8min\n",
            "[CV] END max_depth=10, max_features=auto, min_samples_leaf=1, min_samples_split=5, n_estimators=500; total time= 1.8min\n",
            "[CV] END max_depth=100, max_features=auto, min_samples_leaf=2, min_samples_split=5, n_estimators=600; total time= 3.7min\n",
            "[CV] END max_depth=100, max_features=auto, min_samples_leaf=2, min_samples_split=5, n_estimators=600; total time= 3.6min\n",
            "CPU times: user 17min 9s, sys: 14.6 s, total: 17min 24s\n",
            "Wall time: 1h 45s\n"
          ]
        },
        {
          "output_type": "execute_result",
          "data": {
            "text/plain": [
              "RandomizedSearchCV(cv=2,\n",
              "                   estimator=RandomForestClassifier(n_jobs=-1, random_state=42),\n",
              "                   param_distributions={'max_depth': [10, 100],\n",
              "                                        'max_features': ['auto'],\n",
              "                                        'min_samples_leaf': [1, 2],\n",
              "                                        'min_samples_split': [2, 5],\n",
              "                                        'n_estimators': [500, 600]},\n",
              "                   random_state=42, verbose=2)"
            ]
          },
          "metadata": {},
          "execution_count": 55
        }
      ],
      "source": [
        "### Complete in this cell: predict test data and save csv\n",
        "%time rf_random.fit(train_data, y_train)"
      ]
    },
    {
      "cell_type": "markdown",
      "id": "e645e849-a7e0-43af-b7d1-0b84c29f0e70",
      "metadata": {
        "id": "e645e849-a7e0-43af-b7d1-0b84c29f0e70"
      },
      "source": [
        "3.9. Get AUC ROC score on test dataset.\n",
        "\n",
        "Assign the AUC ROC score to `rf_tuned_roc_auc` variable."
      ]
    },
    {
      "cell_type": "code",
      "execution_count": null,
      "id": "953f2204-304a-405b-b51b-350f054eb3f4",
      "metadata": {
        "id": "953f2204-304a-405b-b51b-350f054eb3f4"
      },
      "outputs": [],
      "source": [
        "### Complete in this cell: calculate roc_auc_score.\n",
        "### Assign to `rf_tuned_roc_auc` variable.\n",
        "rf_tuned_roc_auc = roc_auc_score(y_train, rf_random.predict_proba(train_data)[:, 1])"
      ]
    },
    {
      "cell_type": "markdown",
      "source": [
        "At this point, the model should produce a result around 0.7 or higher."
      ],
      "metadata": {
        "id": "_ZAAkhx1X1Qt"
      },
      "id": "_ZAAkhx1X1Qt"
    },
    {
      "cell_type": "markdown",
      "source": [
        "**Don't change anything in this cell, just make it run correctly**"
      ],
      "metadata": {
        "id": "2nziyTPMX1Qu"
      },
      "id": "2nziyTPMX1Qu"
    },
    {
      "cell_type": "code",
      "source": [
        "if isinstance(rf_tuned_roc_auc, float):\n",
        "  print('Success: AUC ROC score type is correct!')\n",
        "else:\n",
        "  raise ValueError('AUC ROC score type is incorrect, please review your code')\n",
        "\n",
        "if rf_tuned_roc_auc >= 0.7:\n",
        "  print('Success: AUC ROC score is correct!')\n",
        "else:\n",
        "  raise ValueError('AUC ROC score is incorrect, please review your code')"
      ],
      "metadata": {
        "id": "nlDvoWwGX1Qu",
        "colab": {
          "base_uri": "https://localhost:8080/"
        },
        "outputId": "a2937c4d-eb96-4cf9-bd8f-07e9cb2cd379"
      },
      "execution_count": null,
      "outputs": [
        {
          "output_type": "stream",
          "name": "stdout",
          "text": [
            "Success: AUC ROC score type is correct!\n",
            "Success: AUC ROC score is correct!\n"
          ]
        }
      ],
      "id": "nlDvoWwGX1Qu"
    }
  ],
  "metadata": {
    "kernelspec": {
      "display_name": "Python 3 (ipykernel)",
      "language": "python",
      "name": "python3"
    },
    "language_info": {
      "codemirror_mode": {
        "name": "ipython",
        "version": 3
      },
      "file_extension": ".py",
      "mimetype": "text/x-python",
      "name": "python",
      "nbconvert_exporter": "python",
      "pygments_lexer": "ipython3",
      "version": "3.8.9"
    },
    "colab": {
      "provenance": []
    }
  },
  "nbformat": 4,
  "nbformat_minor": 5
}